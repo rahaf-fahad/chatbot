{
 "cells": [
  {
   "cell_type": "code",
   "execution_count": 1,
   "id": "902268f5",
   "metadata": {},
   "outputs": [],
   "source": [
    "# things we need for NLP\n",
    "\n",
    "import nltk\n",
    "from nltk.stem.lancaster import LancasterStemmer\n",
    "stemmer = LancasterStemmer()\n",
    "\n",
    "# things we need for Tensorflow\n",
    "import numpy as np\n",
    "import tensorflow as tf\n",
    "import random\n",
    "import warnings\n",
    "warnings.filterwarnings(\"ignore\")"
   ]
  },
  {
   "cell_type": "code",
   "execution_count": null,
   "id": "ebec50bc",
   "metadata": {
    "scrolled": true
   },
   "outputs": [],
   "source": [
    "pip install tensorflow\n"
   ]
  },
  {
   "cell_type": "code",
   "execution_count": 46,
   "id": "11bf0cf8",
   "metadata": {
    "scrolled": true
   },
   "outputs": [],
   "source": [
    "# import training dataset\n",
    "import json\n",
    "with open(\"C:/Users\\RSHAF/Desktop/chatbot/datas.json\") as f:\n",
    "    intents = json.load(f)"
   ]
  },
  {
   "cell_type": "code",
   "execution_count": 47,
   "id": "87b04fdc",
   "metadata": {},
   "outputs": [
    {
     "data": {
      "text/plain": [
       "list"
      ]
     },
     "execution_count": 47,
     "metadata": {},
     "output_type": "execute_result"
    }
   ],
   "source": [
    "type(intents[\"intents\"])"
   ]
  },
  {
   "cell_type": "code",
   "execution_count": 48,
   "id": "5320a06c",
   "metadata": {},
   "outputs": [
    {
     "name": "stderr",
     "output_type": "stream",
     "text": [
      "[nltk_data] Downloading package punkt to\n",
      "[nltk_data]     C:\\Users\\RSHAF\\AppData\\Roaming\\nltk_data...\n",
      "[nltk_data]   Package punkt is already up-to-date!\n"
     ]
    }
   ],
   "source": [
    "nltk.download('punkt')\n",
    "vocab = []  # for vocabulary\n",
    "classes = [] #tags\n",
    "documents = [] # contain questions/ user inputs and the tags\n",
    "ignore_words = ['?']  #remove punctuations\n",
    "# loop through each sentence in our intents patterns\n",
    "for intent in intents['intents']:\n",
    "    for pattern in intent['patterns']:\n",
    "        # tokenize each word in the sentence\n",
    "        w = nltk.word_tokenize(pattern)\n",
    "        # add to our words list\n",
    "        vocab.extend(w)\n",
    "        # add to documents in our corpus\n",
    "        documents.append((w, intent['tag']))\n",
    "        # add to our classes list\n",
    "        if intent['tag'] not in classes:\n",
    "            classes.append(intent['tag'])\n",
    "\n",
    "# stem and lower each word and remove duplicates\n",
    "vocab = [stemmer.stem(w.lower()) for w in vocab if w not in ignore_words]  #converting the words to lower and then stemming the words\n",
    "vocab = sorted(list(set(vocab)))  #converting it to set so that it removes the duplicate words, and then again converting it to list\n"
   ]
  },
  {
   "cell_type": "code",
   "execution_count": 49,
   "id": "a3a2788a",
   "metadata": {
    "scrolled": true
   },
   "outputs": [
    {
     "name": "stdout",
     "output_type": "stream",
     "text": [
      "75 documents\n",
      "[(['Hi'], 'greeting'), (['How', 'are', 'you'], 'greeting'), (['Is', 'anyone', 'there', '?'], 'greeting'), (['Hello'], 'greeting'), (['Whats', 'up'], 'greeting'), (['cya'], 'goodbye'), (['See', 'you', 'later'], 'goodbye'), (['Goodbye'], 'goodbye'), (['I', 'am', 'Leaving'], 'goodbye'), (['Have', 'a', 'Good', 'day'], 'goodbye'), (['Good', 'morning'], 'morning'), (['morning'], 'morning'), (['mrg'], 'morning'), (['what', 'is', 'your', 'name'], 'name'), (['what', 'should', 'I', 'call', 'you'], 'name'), (['whats', 'your', 'name', '?'], 'name'), (['Could', 'you', 'please', 'tell', 'me', 'your', 'name', '?'], 'name'), (['who', 'are', 'you', '?'], 'name'), (['Good', 'afternoon'], 'afternoon'), (['afternoon'], 'afternoon'), (['aftnoon'], 'afternoon'), (['when', 'are', 'you', 'guys', 'open', '?'], 'hours'), (['what', 'are', 'your', 'working', 'hours'], 'hours'), (['hours', 'of', 'operation'], 'hours'), (['Could', 'you', 'please', 'tell', 'me', 'working', 'hours', 'so', 'that', 'i', 'can', 'visit', 'college', '?'], 'hours'), (['Good', 'evening'], 'evening'), (['evening'], 'evening'), (['What', 'kind', 'of', 'program', 'do', 'you', 'have', 'in', 'your', 'college', '?'], 'programme'), (['Could', 'you', 'please', 'mention', 'the', 'field', 'of', 'study', '?'], 'programme'), (['who', 'developed', 'you', '?'], 'developed'), (['who', 'is', 'the', 'idea', 'behind', 'you', '?'], 'developed'), (['What', 'is', 'your', 'college', 'name', '?'], 'college name'), (['whats', 'the', 'name', 'of', 'your', 'college', '?'], 'college name'), (['Where', 'is', 'your', 'college', 'situated', '?'], 'addressed'), (['where', 'is', 'this', 'college', 'situated', '?'], 'addressed'), (['Can', 'you', 'tell', 'me', 'the', 'address', 'of', 'your', 'college', '?'], 'addressed'), (['From', 'which', 'methods', 'you', 'teaches', 'your', 'student', '?'], 'method'), (['which', 'method', 'of', 'teaches', 'did', 'you', 'followed', '?'], 'method'), (['which', 'technique', 'is', 'used', 'to', 'teach', 'your', 'student', '.'], 'method'), (['Can', 'you', 'tell', 'me', 'about', 'BIT', 'programme', '?'], 'BIT'), (['Please', 'tell', 'me', 'about', 'IT', 'course', '.'], 'BIT'), (['Tell', 'me', 'about', 'IT', '.'], 'BIT'), (['Please', 'tell', 'me', 'about', 'IT', 'course', '.'], 'IT'), (['Tell', 'me', 'about', 'IT', '.'], 'IT'), (['Can', 'you', 'tell', 'me', 'about', 'BBA', 'programme', '?'], 'BBA'), (['Please', 'tell', 'me', 'about', 'business', 'course', '.'], 'BBA'), (['Tell', 'me', 'about', 'business', 'courses', '.'], 'BBA'), (['Can', 'you', 'tell', 'me', 'about', 'requirement', 'to', 'join', 'your', 'college', '?'], 'requirement'), (['What', 'are', 'the', 'requirement', 'to', 'get', 'admission', 'in', 'this', 'college', '?'], 'requirement'), (['Could', 'you', 'tell', 'me', 'about', 'the', 'requirement', 'to', 'be', 'part', 'of', 'this', 'college', '.'], 'requirement'), (['How', 'can', 'i', 'contact', 'you', '?'], 'number'), (['Could', 'you', 'please', 'give', 'me', 'your', 'number', 'so', 'that', 'i', 'can', 'call', 'you', '.'], 'number'), (['Please', 'provide', 'me', 'your', 'number', '.'], 'number'), (['Can', 'i', 'get', 'your', 'mail', '?'], 'email'), (['Can', 'i', 'contact', 'you', 'through', 'mail', '?'], 'email'), (['Please', 'provide', 'me', 'your', 'email', 'address', '.'], 'email'), (['okay', 'sir/mam'], 'okay'), (['okay'], 'okay'), (['sala', 'kutta', 'kamina', '.'], 'offensive'), (['oi', 'sale', 'khate'], 'offensive'), (['oi', 'mug'], 'offensive'), (['madargat'], 'offensive'), (['fuck', 'you'], 'offensive'), (['hey', 'bitch'], 'offensive'), (['hi', 'mother', 'fucker'], 'offensive'), (['tero', 'tauko', ',', 'your', 'head'], 'offensive'), (['hello', 'son', 'of', 'the', 'bitch'], 'offensive'), (['hey', 'bhaster'], 'offensive'), (['hey', 'bhaster', ',', 'kutta', 'kamina', ',', 'tero', 'tauko', ',', 'fuck', ',', 'o', 'fuck'], 'offensive'), (['namastae', 'sir/mam', '.'], 'namastae'), (['namaskar', 'sir/mam'], 'namastae'), (['How', 'are', 'you', '?'], 'caring'), (['How', 'you', 'doing', '?'], 'caring'), (['I', 'am', 'fine', 'too', '.'], 'finetoo'), (['I', 'am', 'gud', '.'], 'finetoo')]\n",
      "23 classes ['BBA', 'BIT', 'IT', 'addressed', 'afternoon', 'caring', 'college name', 'developed', 'email', 'evening', 'finetoo', 'goodbye', 'greeting', 'hours', 'method', 'morning', 'namastae', 'name', 'number', 'offensive', 'okay', 'programme', 'requirement']\n",
      "117 unique stemmed words [',', '.', 'a', 'about', 'address', 'admit', 'afternoon', 'aftnoon', 'am', 'anyon', 'ar', 'bba', 'be', 'behind', 'bhast', 'bit', 'bitch', 'busy', 'cal', 'can', 'colleg', 'contact', 'could', 'cours', 'cya', 'day', 'develop', 'did', 'do', 'doing', 'email', 'ev', 'field', 'fin', 'follow', 'from', 'fuck', 'get', 'giv', 'good', 'goodby', 'gud', 'guy', 'hav', 'head', 'hello', 'hey', 'hi', 'hour', 'how', 'i', 'ide', 'in', 'is', 'it', 'join', 'kamin', 'khat', 'kind', 'kutt', 'lat', 'leav', 'madarg', 'mail', 'me', 'ment', 'method', 'morn', 'moth', 'mrg', 'mug', 'nam', 'namask', 'namasta', 'numb', 'o', 'of', 'oi', 'okay', 'op', 'part', 'pleas', 'program', 'provid', 'requir', 'sal', 'see', 'should', 'sir/mam', 'situ', 'so', 'son', 'stud', 'study', 'tauko', 'teach', 'techn', 'tel', 'tero', 'that', 'the', 'ther', 'thi', 'through', 'to', 'too', 'up', 'us', 'visit', 'what', 'when', 'wher', 'which', 'who', 'work', 'yo', 'you']\n"
     ]
    }
   ],
   "source": [
    "\n",
    "classes = sorted(list(set(classes)))\n",
    "\n",
    "print (len(documents), \"documents\")\n",
    "print(documents)\n",
    "print (len(classes), \"classes\", classes)\n",
    "print (len(vocab), \"unique stemmed words\", vocab)"
   ]
  },
  {
   "cell_type": "code",
   "execution_count": 50,
   "id": "91fe7453",
   "metadata": {},
   "outputs": [],
   "source": [
    "\n",
    "# create our training data\n",
    "training = []\n",
    "# create an empty array for our output\n",
    "output = [0] * len(classes)\n",
    "\n",
    "# training set, bag of words for each sentence\n",
    "for doc in documents:\n",
    "    # initialize our bag of words\n",
    "    bag = []\n",
    "    # list of tokenized words for the pattern\n",
    "    pattern_words = doc[0]\n",
    "    # stem each word\n",
    "    pattern_words = [stemmer.stem(word.lower()) for word in pattern_words]\n",
    "    # create our bag of words array\n",
    "    for w in vocab:\n",
    "        bag.append(1) if w in pattern_words else bag.append(0)\n",
    "\n",
    "    # output is a '0' for each tag and '1' for current tag\n",
    "    output_row = list(output)\n",
    "    output_row[classes.index(doc[1])] = 1\n",
    "\n",
    "    training.append([bag, output_row])\n",
    "\n",
    "# shuffle our features and turn into np.array\n",
    "random.shuffle(training)\n",
    "training = np.array(training)\n",
    "\n",
    "# create train and test lists\n",
    "train_x = list(training[:,0])\n",
    "train_y = list(training[:,1])\n",
    "     "
   ]
  },
  {
   "cell_type": "code",
   "execution_count": 51,
   "id": "5d2f4793",
   "metadata": {},
   "outputs": [
    {
     "name": "stdout",
     "output_type": "stream",
     "text": [
      "training data input: [0, 0, 0, 1, 0, 0, 0, 0, 0, 0, 0, 1, 0, 0, 0, 0, 0, 0, 0, 1, 0, 0, 0, 0, 0, 0, 0, 0, 0, 0, 0, 0, 0, 0, 0, 0, 0, 0, 0, 0, 0, 0, 0, 0, 0, 0, 0, 0, 0, 0, 0, 0, 0, 0, 0, 0, 0, 0, 0, 0, 0, 0, 0, 0, 1, 0, 0, 0, 0, 0, 0, 0, 0, 0, 0, 0, 0, 0, 0, 0, 0, 0, 1, 0, 0, 0, 0, 0, 0, 0, 0, 0, 0, 0, 0, 0, 0, 1, 0, 0, 0, 0, 0, 0, 0, 0, 0, 0, 0, 0, 0, 0, 0, 0, 0, 0, 1]\n",
      "training data output [1, 0, 0, 0, 0, 0, 0, 0, 0, 0, 0, 0, 0, 0, 0, 0, 0, 0, 0, 0, 0, 0, 0]\n"
     ]
    }
   ],
   "source": [
    "print(\"training data input:\",train_x[0])\n",
    "print(\"training data output\",train_y[0])"
   ]
  },
  {
   "cell_type": "code",
   "execution_count": 52,
   "id": "3ac5d154",
   "metadata": {},
   "outputs": [],
   "source": [
    "testing = []\n",
    "\n",
    "vocab2 = []  # for vocabulary\n",
    "classes2 = [] #tags\n",
    "documents2 = [] # contain questions/ user inputs and the tags\n",
    "ignore_words2 = ['?','!']  #remove punctuations\n",
    "# loop through each sentence in our intents patterns\n",
    "for intent in intents['intents']:\n",
    "    for pattern in intent['patterns']:\n",
    "        # tokenize each word in the sentence\n",
    "        w = nltk.word_tokenize(pattern)\n",
    "        # add to our words list\n",
    "        vocab2.extend(w)\n",
    "        # add to documents in our corpus\n",
    "        documents2.append((w, intent['tag']))\n",
    "        # add to our classes list\n",
    "        if intent['tag'] not in classes2:\n",
    "            classes2.append(intent['tag'])\n",
    "\n",
    "# stem and lower each word and remove duplicates\n",
    "vocab2 = [stemmer.stem(w.lower()) for w in vocab2 if w not in ignore_words2]  #converting the words to lower and then stemming the words\n",
    "vocab2 = sorted(list(set(vocab2))) "
   ]
  },
  {
   "cell_type": "code",
   "execution_count": 53,
   "id": "d360df67",
   "metadata": {},
   "outputs": [
    {
     "name": "stdout",
     "output_type": "stream",
     "text": [
      "75 documents2\n",
      "[(['Hi'], 'greeting'), (['How', 'are', 'you'], 'greeting'), (['Is', 'anyone', 'there', '?'], 'greeting'), (['Hello'], 'greeting'), (['Whats', 'up'], 'greeting'), (['cya'], 'goodbye'), (['See', 'you', 'later'], 'goodbye'), (['Goodbye'], 'goodbye'), (['I', 'am', 'Leaving'], 'goodbye'), (['Have', 'a', 'Good', 'day'], 'goodbye'), (['Good', 'morning'], 'morning'), (['morning'], 'morning'), (['mrg'], 'morning'), (['what', 'is', 'your', 'name'], 'name'), (['what', 'should', 'I', 'call', 'you'], 'name'), (['whats', 'your', 'name', '?'], 'name'), (['Could', 'you', 'please', 'tell', 'me', 'your', 'name', '?'], 'name'), (['who', 'are', 'you', '?'], 'name'), (['Good', 'afternoon'], 'afternoon'), (['afternoon'], 'afternoon'), (['aftnoon'], 'afternoon'), (['when', 'are', 'you', 'guys', 'open', '?'], 'hours'), (['what', 'are', 'your', 'working', 'hours'], 'hours'), (['hours', 'of', 'operation'], 'hours'), (['Could', 'you', 'please', 'tell', 'me', 'working', 'hours', 'so', 'that', 'i', 'can', 'visit', 'college', '?'], 'hours'), (['Good', 'evening'], 'evening'), (['evening'], 'evening'), (['What', 'kind', 'of', 'program', 'do', 'you', 'have', 'in', 'your', 'college', '?'], 'programme'), (['Could', 'you', 'please', 'mention', 'the', 'field', 'of', 'study', '?'], 'programme'), (['who', 'developed', 'you', '?'], 'developed'), (['who', 'is', 'the', 'idea', 'behind', 'you', '?'], 'developed'), (['What', 'is', 'your', 'college', 'name', '?'], 'college name'), (['whats', 'the', 'name', 'of', 'your', 'college', '?'], 'college name'), (['Where', 'is', 'your', 'college', 'situated', '?'], 'addressed'), (['where', 'is', 'this', 'college', 'situated', '?'], 'addressed'), (['Can', 'you', 'tell', 'me', 'the', 'address', 'of', 'your', 'college', '?'], 'addressed'), (['From', 'which', 'methods', 'you', 'teaches', 'your', 'student', '?'], 'method'), (['which', 'method', 'of', 'teaches', 'did', 'you', 'followed', '?'], 'method'), (['which', 'technique', 'is', 'used', 'to', 'teach', 'your', 'student', '.'], 'method'), (['Can', 'you', 'tell', 'me', 'about', 'BIT', 'programme', '?'], 'BIT'), (['Please', 'tell', 'me', 'about', 'IT', 'course', '.'], 'BIT'), (['Tell', 'me', 'about', 'IT', '.'], 'BIT'), (['Please', 'tell', 'me', 'about', 'IT', 'course', '.'], 'IT'), (['Tell', 'me', 'about', 'IT', '.'], 'IT'), (['Can', 'you', 'tell', 'me', 'about', 'BBA', 'programme', '?'], 'BBA'), (['Please', 'tell', 'me', 'about', 'business', 'course', '.'], 'BBA'), (['Tell', 'me', 'about', 'business', 'courses', '.'], 'BBA'), (['Can', 'you', 'tell', 'me', 'about', 'requirement', 'to', 'join', 'your', 'college', '?'], 'requirement'), (['What', 'are', 'the', 'requirement', 'to', 'get', 'admission', 'in', 'this', 'college', '?'], 'requirement'), (['Could', 'you', 'tell', 'me', 'about', 'the', 'requirement', 'to', 'be', 'part', 'of', 'this', 'college', '.'], 'requirement'), (['How', 'can', 'i', 'contact', 'you', '?'], 'number'), (['Could', 'you', 'please', 'give', 'me', 'your', 'number', 'so', 'that', 'i', 'can', 'call', 'you', '.'], 'number'), (['Please', 'provide', 'me', 'your', 'number', '.'], 'number'), (['Can', 'i', 'get', 'your', 'mail', '?'], 'email'), (['Can', 'i', 'contact', 'you', 'through', 'mail', '?'], 'email'), (['Please', 'provide', 'me', 'your', 'email', 'address', '.'], 'email'), (['okay', 'sir/mam'], 'okay'), (['okay'], 'okay'), (['sala', 'kutta', 'kamina', '.'], 'offensive'), (['oi', 'sale', 'khate'], 'offensive'), (['oi', 'mug'], 'offensive'), (['madargat'], 'offensive'), (['fuck', 'you'], 'offensive'), (['hey', 'bitch'], 'offensive'), (['hi', 'mother', 'fucker'], 'offensive'), (['tero', 'tauko', ',', 'your', 'head'], 'offensive'), (['hello', 'son', 'of', 'the', 'bitch'], 'offensive'), (['hey', 'bhaster'], 'offensive'), (['hey', 'bhaster', ',', 'kutta', 'kamina', ',', 'tero', 'tauko', ',', 'fuck', ',', 'o', 'fuck'], 'offensive'), (['namastae', 'sir/mam', '.'], 'namastae'), (['namaskar', 'sir/mam'], 'namastae'), (['How', 'are', 'you', '?'], 'caring'), (['How', 'you', 'doing', '?'], 'caring'), (['I', 'am', 'fine', 'too', '.'], 'finetoo'), (['I', 'am', 'gud', '.'], 'finetoo')]\n",
      "23 classes ['BBA', 'BIT', 'IT', 'addressed', 'afternoon', 'caring', 'college name', 'developed', 'email', 'evening', 'finetoo', 'goodbye', 'greeting', 'hours', 'method', 'morning', 'namastae', 'name', 'number', 'offensive', 'okay', 'programme', 'requirement']\n",
      "117 unique stemmed words2 [',', '.', 'a', 'about', 'address', 'admit', 'afternoon', 'aftnoon', 'am', 'anyon', 'ar', 'bba', 'be', 'behind', 'bhast', 'bit', 'bitch', 'busy', 'cal', 'can', 'colleg', 'contact', 'could', 'cours', 'cya', 'day', 'develop', 'did', 'do', 'doing', 'email', 'ev', 'field', 'fin', 'follow', 'from', 'fuck', 'get', 'giv', 'good', 'goodby', 'gud', 'guy', 'hav', 'head', 'hello', 'hey', 'hi', 'hour', 'how', 'i', 'ide', 'in', 'is', 'it', 'join', 'kamin', 'khat', 'kind', 'kutt', 'lat', 'leav', 'madarg', 'mail', 'me', 'ment', 'method', 'morn', 'moth', 'mrg', 'mug', 'nam', 'namask', 'namasta', 'numb', 'o', 'of', 'oi', 'okay', 'op', 'part', 'pleas', 'program', 'provid', 'requir', 'sal', 'see', 'should', 'sir/mam', 'situ', 'so', 'son', 'stud', 'study', 'tauko', 'teach', 'techn', 'tel', 'tero', 'that', 'the', 'ther', 'thi', 'through', 'to', 'too', 'up', 'us', 'visit', 'what', 'when', 'wher', 'which', 'who', 'work', 'yo', 'you']\n"
     ]
    }
   ],
   "source": [
    "classes2 = sorted(list(set(classes2)))\n",
    "\n",
    "print (len(documents2), \"documents2\")\n",
    "print(documents2)\n",
    "print (len(classes2), \"classes\", classes2)\n",
    "print (len(vocab2), \"unique stemmed words2\", vocab2)"
   ]
  },
  {
   "cell_type": "code",
   "execution_count": 54,
   "id": "f9ab0f71",
   "metadata": {},
   "outputs": [
    {
     "name": "stdout",
     "output_type": "stream",
     "text": [
      "23\n"
     ]
    }
   ],
   "source": [
    "# create our training data\n",
    "testing = []\n",
    "#output = []\n",
    "# create an empty array for our output\n",
    "output2 = [0] * len(classes)\n",
    "print(len(output2))\n",
    "# training set, bag of words for each sentence\n",
    "for doc in documents2:\n",
    "    # initialize our bag of words\n",
    "    bag2 = []\n",
    "    # list of tokenized words for the pattern\n",
    "    pattern_words2 = doc[0]\n",
    "    # stem each word\n",
    "    pattern_words2 = [stemmer.stem(word.lower()) for word in pattern_words2]\n",
    "    # create our bag of words array\n",
    "    for w in vocab:\n",
    "        bag2.append(1) if w in pattern_words2 else bag2.append(0)\n",
    "\n",
    "    # output is a '0' for each tag and '1' for current tag\n",
    "    output_row2 = list(output2)\n",
    "    output_row2[classes.index(doc[1])] = 1\n",
    "\n",
    "    testing.append([bag2, output_row2])\n",
    "\n",
    "# shuffle our features and turn into np.array\n",
    "random.shuffle(testing)\n",
    "testing = np.array(testing)\n",
    "\n",
    "# create train and test lists\n",
    "test_x = list(testing[:,0])\n",
    "test_y = list(testing[:,1])"
   ]
  },
  {
   "cell_type": "code",
   "execution_count": 55,
   "id": "dd3da78a",
   "metadata": {},
   "outputs": [
    {
     "data": {
      "text/plain": [
       "117"
      ]
     },
     "execution_count": 55,
     "metadata": {},
     "output_type": "execute_result"
    }
   ],
   "source": [
    "len(test_x[0])"
   ]
  },
  {
   "cell_type": "code",
   "execution_count": 56,
   "id": "8b251853",
   "metadata": {},
   "outputs": [
    {
     "data": {
      "text/plain": [
       "117"
      ]
     },
     "execution_count": 56,
     "metadata": {},
     "output_type": "execute_result"
    }
   ],
   "source": [
    "len(train_x[0])"
   ]
  },
  {
   "cell_type": "code",
   "execution_count": 57,
   "id": "43d4a300",
   "metadata": {
    "scrolled": true
   },
   "outputs": [],
   "source": [
    "\n",
    "import livelossplot\n",
    "plot_losses = livelossplot.PlotLossesKeras()\n"
   ]
  },
  {
   "cell_type": "code",
   "execution_count": 58,
   "id": "3cedc8f3",
   "metadata": {},
   "outputs": [
    {
     "data": {
      "image/png": "[encoded data removed]",
      "text/plain": [
       "<Figure size 864x576 with 2 Axes>"
      ]
     },
     "metadata": {
      "needs_background": "light"
     },
     "output_type": "display_data"
    },
    {
     "name": "stdout",
     "output_type": "stream",
     "text": [
      "accuracy\n",
      "\taccuracy         \t (min:    0.013, max:    0.960, cur:    0.960)\n",
      "Loss\n",
      "\tloss             \t (min:    0.002, max:    0.042, cur:    0.002)\n",
      "10/10 [==============================] - 0s 20ms/step - loss: 0.0024 - accuracy: 0.9600\n"
     ]
    }
   ],
   "source": [
    "\n",
    "\n",
    "#sequential neural network model\n",
    "\n",
    "model = tf.keras.Sequential([tf.keras.layers.Dense(16, input_shape = (None,len(train_x[0]))), # input layer \n",
    "                             tf.keras.layers.Dense(10), #hidden layer\n",
    "\n",
    "                             tf.keras.layers.Dense(len(train_y[0]),activation=\"softmax\"),]) #output layer\n",
    "model.compile(optimizer = \"adam\",loss = \"mean_squared_error\",metrics = ['accuracy'])\n",
    "model.fit(train_x, train_y, epochs=100, batch_size=8,callbacks=[plot_losses])\n",
    "model.save('model.keras')\n",
    "\n"
   ]
  },
  {
   "cell_type": "code",
   "execution_count": 59,
   "id": "9cc13d29",
   "metadata": {},
   "outputs": [
    {
     "name": "stdout",
     "output_type": "stream",
     "text": [
      "WARNING:tensorflow:Model was constructed with shape (None, None, 117) for input KerasTensor(type_spec=TensorSpec(shape=(None, None, 117), dtype=tf.float32, name='dense_input'), name='dense_input', description=\"created by layer 'dense_input'\"), but it was called on an input with incompatible shape (None, 117).\n",
      "3/3 [==============================] - 0s 1ms/step - loss: 0.0024 - accuracy: 0.9600\n",
      "test loss: 0.0024074246175587177\n",
      "test accuracy: 0.9599999785423279\n"
     ]
    }
   ],
   "source": [
    "\n",
    "# Evaluation of the model with test data\n",
    "\n",
    "scores = model.evaluate(test_x,test_y)\n",
    "print(\"test loss:\",scores[0])\n",
    "print(\"test accuracy:\", scores[1])"
   ]
  },
  {
   "cell_type": "code",
   "execution_count": 60,
   "id": "f422ad9f",
   "metadata": {},
   "outputs": [
    {
     "name": "stdout",
     "output_type": "stream",
     "text": [
      "Requirement already satisfied: pydot in c:\\users\\rshaf\\anaconda3\\lib\\site-packages (1.4.2)\n",
      "Requirement already satisfied: pyparsing>=2.1.4 in c:\\users\\rshaf\\anaconda3\\lib\\site-packages (from pydot) (2.4.7)\n",
      "Note: you may need to restart the kernel to use updated packages.\n"
     ]
    }
   ],
   "source": [
    "pip install pydot\n"
   ]
  },
  {
   "cell_type": "code",
   "execution_count": 61,
   "id": "afb670e2",
   "metadata": {},
   "outputs": [],
   "source": [
    "\n",
    "import pickle\n",
    "pickle.dump( {'vocab':vocab, 'classes':classes, 'train_x':train_x, 'train_y':train_y}, open( \"training_data\", \"wb\" ) )"
   ]
  },
  {
   "cell_type": "code",
   "execution_count": 63,
   "id": "a183355f",
   "metadata": {},
   "outputs": [],
   "source": [
    "#restore all of our data structures\n",
    "import pickle\n",
    "data = pickle.load( open( \"training_data\", \"rb\" ) )\n",
    "vocab = data['vocab']\n",
    "classes = data['classes']\n",
    "train_x = data['train_x']\n",
    "train_y = data['train_y']\n",
    "\n",
    "# import our chat-bot intents file\n",
    "import json\n",
    "with open(\"C:/Users/RSHAF/Desktop/chatbot/datas.json\") as f:\n",
    "    intents = json.load(f)"
   ]
  },
  {
   "cell_type": "code",
   "execution_count": 64,
   "id": "358be6bc",
   "metadata": {},
   "outputs": [],
   "source": [
    "# convert user input to BOW\n",
    "def clean_up_sentence(sentence):\n",
    "    # tokenize the pattern\n",
    "    sentence_words = nltk.word_tokenize(sentence)\n",
    "    # stem each word\n",
    "    sentence_words = [stemmer.stem(word.lower()) for word in sentence_words]\n",
    "    return sentence_words\n",
    "\n",
    "# return bag of words array: 0 or 1 for each word in the bag that exists in the sentence\n",
    "def bow(sentence, words, show_details=False):\n",
    "    # tokenize the pattern\n",
    "    sentence_words = clean_up_sentence(sentence)\n",
    "    # bag of words\n",
    "    bag = [0]*len(words)  \n",
    "    for s in sentence_words:\n",
    "        for i,w in enumerate(words):\n",
    "            if w == s: \n",
    "                bag[i] = 1\n",
    "                if show_details:\n",
    "                    print (\"found in bag: %s\" % w)\n",
    "    bag = np.array(bag)\n",
    "    bag= bag.tolist()\n",
    "    return(bag)\n",
    "     "
   ]
  },
  {
   "cell_type": "code",
   "execution_count": 66,
   "id": "c17a344a",
   "metadata": {},
   "outputs": [
    {
     "data": {
      "text/plain": [
       "[',',\n",
       " '.',\n",
       " 'a',\n",
       " 'about',\n",
       " 'address',\n",
       " 'admit',\n",
       " 'afternoon',\n",
       " 'aftnoon',\n",
       " 'am',\n",
       " 'anyon',\n",
       " 'ar',\n",
       " 'bba',\n",
       " 'be',\n",
       " 'behind',\n",
       " 'bhast',\n",
       " 'bit',\n",
       " 'bitch',\n",
       " 'busy',\n",
       " 'cal',\n",
       " 'can',\n",
       " 'colleg',\n",
       " 'contact',\n",
       " 'could',\n",
       " 'cours',\n",
       " 'cya',\n",
       " 'day',\n",
       " 'develop',\n",
       " 'did',\n",
       " 'do',\n",
       " 'doing',\n",
       " 'email',\n",
       " 'ev',\n",
       " 'field',\n",
       " 'fin',\n",
       " 'follow',\n",
       " 'from',\n",
       " 'fuck',\n",
       " 'get',\n",
       " 'giv',\n",
       " 'good',\n",
       " 'goodby',\n",
       " 'gud',\n",
       " 'guy',\n",
       " 'hav',\n",
       " 'head',\n",
       " 'hello',\n",
       " 'hey',\n",
       " 'hi',\n",
       " 'hour',\n",
       " 'how',\n",
       " 'i',\n",
       " 'ide',\n",
       " 'in',\n",
       " 'is',\n",
       " 'it',\n",
       " 'join',\n",
       " 'kamin',\n",
       " 'khat',\n",
       " 'kind',\n",
       " 'kutt',\n",
       " 'lat',\n",
       " 'leav',\n",
       " 'madarg',\n",
       " 'mail',\n",
       " 'me',\n",
       " 'ment',\n",
       " 'method',\n",
       " 'morn',\n",
       " 'moth',\n",
       " 'mrg',\n",
       " 'mug',\n",
       " 'nam',\n",
       " 'namask',\n",
       " 'namasta',\n",
       " 'numb',\n",
       " 'o',\n",
       " 'of',\n",
       " 'oi',\n",
       " 'okay',\n",
       " 'op',\n",
       " 'part',\n",
       " 'pleas',\n",
       " 'program',\n",
       " 'provid',\n",
       " 'requir',\n",
       " 'sal',\n",
       " 'see',\n",
       " 'should',\n",
       " 'sir/mam',\n",
       " 'situ',\n",
       " 'so',\n",
       " 'son',\n",
       " 'stud',\n",
       " 'study',\n",
       " 'tauko',\n",
       " 'teach',\n",
       " 'techn',\n",
       " 'tel',\n",
       " 'tero',\n",
       " 'that',\n",
       " 'the',\n",
       " 'ther',\n",
       " 'thi',\n",
       " 'through',\n",
       " 'to',\n",
       " 'too',\n",
       " 'up',\n",
       " 'us',\n",
       " 'visit',\n",
       " 'what',\n",
       " 'when',\n",
       " 'wher',\n",
       " 'which',\n",
       " 'who',\n",
       " 'work',\n",
       " 'yo',\n",
       " 'you']"
      ]
     },
     "execution_count": 66,
     "metadata": {},
     "output_type": "execute_result"
    }
   ],
   "source": [
    "data['vocab']"
   ]
  },
  {
   "cell_type": "code",
   "execution_count": 68,
   "id": "5524070a",
   "metadata": {},
   "outputs": [
    {
     "name": "stdout",
     "output_type": "stream",
     "text": [
      "[0, 0, 0, 0, 0, 0, 1, 0, 0, 0, 0, 0, 0, 0, 0, 0, 0, 0, 0, 0, 0, 0, 0, 0, 0, 0, 0, 0, 0, 0, 0, 0, 0, 0, 0, 0, 0, 0, 0, 0, 0, 0, 0, 0, 0, 0, 0, 0, 0, 0, 0, 0, 0, 0, 0, 0, 0, 0, 0, 0, 0, 0, 0, 0, 0, 0, 0, 0, 0, 0, 0, 0, 0, 0, 0, 0, 0, 0, 0, 0, 0, 0, 0, 0, 0, 0, 0, 0, 0, 0, 0, 0, 0, 0, 0, 0, 0, 0, 0, 0, 0, 0, 0, 0, 0, 0, 0, 0, 0, 0, 0, 0, 0, 0, 0, 0, 0]\n"
     ]
    }
   ],
   "source": [
    "x = bow(\"afternoon\",vocab)\n",
    "print(x)\n",
    "     "
   ]
  },
  {
   "cell_type": "code",
   "execution_count": 69,
   "id": "74976d37",
   "metadata": {},
   "outputs": [],
   "source": [
    "rate = 0.25\n",
    "def classify(sentence):\n",
    "    # generate probabilities from the model\n",
    "    results = model.predict([bow(sentence, vocab)])[0]\n",
    "    print(results)\n",
    "    # filter out predictions below a threshold\n",
    "    results = [[i,r] for i,r in enumerate(results) if r>rate]\n",
    "    # sort by strength of probability\n",
    "    results.sort(key=lambda x: x[1], reverse=True)\n",
    "    return_list = []\n",
    "    for r in results:\n",
    "        return_list.append((classes[r[0]], r[1]))\n",
    "    \n",
    "    return return_list\n",
    "\n",
    "def response(sentence, userID='123', show_details=False):\n",
    "    results = classify(sentence)\n",
    "    # if we have a classification then find the matching intent tag\n",
    "    if results:\n",
    "        # loop as long as there are matches to process\n",
    "        while results:\n",
    "            for i in intents['intents']:\n",
    "                # find a tag matching the first result\n",
    "                if i['tag'] == results[0][0]:\n",
    "                    # a random response from the intent\n",
    "                    return print(random.choice(i['responses']))\n",
    "\n",
    "            results.pop(0)"
   ]
  },
  {
   "cell_type": "code",
   "execution_count": 70,
   "id": "3ddfda83",
   "metadata": {
    "scrolled": true
   },
   "outputs": [
    {
     "name": "stdout",
     "output_type": "stream",
     "text": [
      "WARNING:tensorflow:Model was constructed with shape (None, None, 117) for input KerasTensor(type_spec=TensorSpec(shape=(None, None, 117), dtype=tf.float32, name='dense_input'), name='dense_input', description=\"created by layer 'dense_input'\"), but it was called on an input with incompatible shape (None, 117).\n",
      "1/1 [==============================] - 0s 61ms/step\n",
      "[1.7114691e-04 3.3401735e-03 4.7375201e-03 1.9576857e-03 1.5076809e-02\n",
      " 1.2782238e-04 9.7353396e-04 2.6827366e-03 6.8414741e-04 5.4715503e-05\n",
      " 8.9641858e-04 1.8407609e-02 8.9027858e-01 3.2636698e-03 2.3271670e-04\n",
      " 1.3391788e-02 1.0195915e-03 2.8484918e-03 4.7825975e-04 3.6707588e-02\n",
      " 2.2335371e-03 1.1915276e-04 3.1637927e-04]\n"
     ]
    },
    {
     "data": {
      "text/plain": [
       "[('greeting', 0.8902786)]"
      ]
     },
     "execution_count": 70,
     "metadata": {},
     "output_type": "execute_result"
    }
   ],
   "source": [
    "classify(\"hello\")"
   ]
  },
  {
   "cell_type": "code",
   "execution_count": 72,
   "id": "9139ebad",
   "metadata": {
    "scrolled": true
   },
   "outputs": [
    {
     "name": "stdout",
     "output_type": "stream",
     "text": [
      "1/1 [==============================] - 0s 20ms/step\n",
      "[6.2723033e-04 3.9256591e-04 2.3554002e-03 5.0534809e-04 9.1218019e-01\n",
      " 1.2949309e-03 1.9814852e-03 3.7598878e-05 5.8226618e-03 6.5869070e-03\n",
      " 5.6166522e-04 4.8783896e-03 6.0174074e-03 1.2279689e-02 9.7448443e-04\n",
      " 1.5519511e-02 3.0998732e-03 2.2431375e-02 4.5365753e-04 6.1842124e-04\n",
      " 1.3205643e-03 4.8883532e-05 1.1777516e-05]\n"
     ]
    },
    {
     "data": {
      "text/plain": [
       "[('afternoon', 0.9121802)]"
      ]
     },
     "execution_count": 72,
     "metadata": {},
     "output_type": "execute_result"
    }
   ],
   "source": [
    "classify(\"afternoon\")"
   ]
  },
  {
   "cell_type": "code",
   "execution_count": 73,
   "id": "e967fcc4",
   "metadata": {
    "scrolled": false
   },
   "outputs": [
    {
     "name": "stdout",
     "output_type": "stream",
     "text": [
      ":start\n",
      "me:hi\n",
      "1/1 [==============================] - 0s 70ms/step\n",
      "Hi there, how can I help?\n",
      "me:afternoon\n",
      "1/1 [==============================] - 0s 21ms/step\n",
      "Good afternoon sir/mam. How can i assist you?\n",
      "me:quit\n"
     ]
    }
   ],
   "source": [
    "\n",
    "def start_chat():\n",
    "  print(\":start\")\n",
    "  while True:\n",
    "    inp = input(\"me:\")\n",
    "    if inp.lower() == \"quit\":\n",
    "      \n",
    "      break\n",
    "\n",
    "    result = model.predict([[bow(inp,vocab)]])\n",
    "    \n",
    "    result_ind = np.argmax(result)\n",
    "    tag = classes[result_ind]\n",
    "    \n",
    "    for tg in intents[\"intents\"]:\n",
    "      if tg[\"tag\"] == tag:\n",
    "        responses = tg[\"responses\"]\n",
    "\n",
    "    print(random.choice(responses))\n",
    "    \n",
    "\n",
    "\n",
    "start_chat()"
   ]
  },
  {
   "cell_type": "code",
   "execution_count": 74,
   "id": "bed7e9a2",
   "metadata": {},
   "outputs": [
    {
     "name": "stdout",
     "output_type": "stream",
     "text": [
      "['Hello!', 'Good to see you', 'Hi there, how can I help?']\n"
     ]
    }
   ],
   "source": [
    "for i in intents[\"intents\"]:\n",
    "  if i[\"tag\"] == \"greeting\":\n",
    "    responses = i[\"responses\"]\n",
    "print(responses)\n"
   ]
  },
  {
   "cell_type": "code",
   "execution_count": null,
   "id": "f970ea50",
   "metadata": {},
   "outputs": [],
   "source": []
  }
 ],
 "metadata": {
  "kernelspec": {
   "display_name": "Python 3",
   "language": "python",
   "name": "python3"
  },
  "language_info": {
   "codemirror_mode": {
    "name": "ipython",
    "version": 3
   },
   "file_extension": ".py",
   "mimetype": "text/x-python",
   "name": "python",
   "nbconvert_exporter": "python",
   "pygments_lexer": "ipython3",
   "version": "3.8.8"
  }
 },
 "nbformat": 4,
 "nbformat_minor": 5
}
