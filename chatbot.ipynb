{
 "cells": [
  {
   "cell_type": "code",
   "execution_count": 1,
   "id": "902268f5",
   "metadata": {},
   "outputs": [],
   "source": [
    "# things we need for NLP\n",
    "\n",
    "import nltk\n",
    "from nltk.stem.lancaster import LancasterStemmer\n",
    "stemmer = LancasterStemmer()\n",
    "\n",
    "# things we need for Tensorflow\n",
    "import numpy as np\n",
    "import tensorflow as tf\n",
    "import random\n",
    "import warnings\n",
    "warnings.filterwarnings(\"ignore\")"
   ]
  },
  {
   "cell_type": "code",
   "execution_count": null,
   "id": "ebec50bc",
   "metadata": {
    "scrolled": true
   },
   "outputs": [],
   "source": [
    "pip install tensorflow\n"
   ]
  },
  {
   "cell_type": "code",
   "execution_count": 2,
   "id": "11bf0cf8",
   "metadata": {
    "scrolled": true
   },
   "outputs": [],
   "source": [
    "# import training dataset\n",
    "import json\n",
    "with open(\"C:/Users/RSHAF/Desktop/chatbot2/data.json\") as f:\n",
    "    intents = json.load(f)"
   ]
  },
  {
   "cell_type": "code",
   "execution_count": 3,
   "id": "87b04fdc",
   "metadata": {},
   "outputs": [
    {
     "data": {
      "text/plain": [
       "list"
      ]
     },
     "execution_count": 3,
     "metadata": {},
     "output_type": "execute_result"
    }
   ],
   "source": [
    "type(intents[\"intents\"])"
   ]
  },
  {
   "cell_type": "code",
   "execution_count": 4,
   "id": "5320a06c",
   "metadata": {},
   "outputs": [
    {
     "name": "stderr",
     "output_type": "stream",
     "text": [
      "[nltk_data] Downloading package punkt to\n",
      "[nltk_data]     C:\\Users\\RSHAF\\AppData\\Roaming\\nltk_data...\n",
      "[nltk_data]   Package punkt is already up-to-date!\n"
     ]
    }
   ],
   "source": [
    "nltk.download('punkt')\n",
    "vocab = []  # for vocabulary\n",
    "classes = [] #tags\n",
    "documents = [] # contain questions/ user inputs and the tags\n",
    "ignore_words = ['?']  #remove punctuations\n",
    "# loop through each sentence in our intents patterns\n",
    "for intent in intents['intents']:\n",
    "    for pattern in intent['patterns']:\n",
    "        # tokenize each word in the sentence\n",
    "        w = nltk.word_tokenize(pattern)\n",
    "        # add to our words list\n",
    "        vocab.extend(w)\n",
    "        # add to documents in our corpus\n",
    "        documents.append((w, intent['tag']))\n",
    "        # add to our classes list\n",
    "        if intent['tag'] not in classes:\n",
    "            classes.append(intent['tag'])\n",
    "\n",
    "# stem and lower each word and remove duplicates\n",
    "vocab = [stemmer.stem(w.lower()) for w in vocab if w not in ignore_words]  #converting the words to lower and then stemming the words\n",
    "vocab = sorted(list(set(vocab)))  #converting it to set so that it removes the duplicate words, and then again converting it to list\n"
   ]
  },
  {
   "cell_type": "code",
   "execution_count": 5,
   "id": "a3a2788a",
   "metadata": {
    "scrolled": true
   },
   "outputs": [
    {
     "name": "stdout",
     "output_type": "stream",
     "text": [
      "232 documents\n",
      "[(['Hi'], 'greeting'), (['Hey'], 'greeting'), (['Is', 'anyone', 'there', '?'], 'greeting'), (['Hi', 'there'], 'greeting'), (['Hello'], 'greeting'), (['Hey', 'there'], 'greeting'), (['Howdy'], 'greeting'), (['Hola'], 'greeting'), (['Bonjour'], 'greeting'), (['Konnichiwa'], 'greeting'), (['Guten', 'tag'], 'greeting'), (['Ola'], 'greeting'), (['Good', 'morning'], 'morning'), (['Good', 'afternoon'], 'afternoon'), (['Good', 'evening'], 'evening'), (['Good', 'night'], 'night'), (['Bye'], 'goodbye'), (['See', 'you', 'later'], 'goodbye'), (['Goodbye'], 'goodbye'), (['Au', 'revoir'], 'goodbye'), (['Sayonara'], 'goodbye'), (['ok', 'bye'], 'goodbye'), (['Bye', 'then'], 'goodbye'), (['Fare', 'thee', 'well'], 'goodbye'), (['Thanks'], 'thanks'), (['Thank', 'you'], 'thanks'), (['That', \"'s\", 'helpful'], 'thanks'), (['Thanks', 'for', 'the', 'help'], 'thanks'), (['Than', 'you', 'very', 'much'], 'thanks'), ([], 'no-response'), (['nothing', 'much'], 'neutral-response'), (['Who', 'are', 'you', '?'], 'about'), (['What', 'are', 'you', '?'], 'about'), (['Who', 'you', 'are', '?'], 'about'), (['Tell', 'me', 'more', 'about', 'yourself', '.'], 'about'), (['What', 'is', 'your', 'name', '?'], 'about'), (['What', 'should', 'I', 'call', 'you', '?'], 'about'), (['What', \"'s\", 'your', 'name', '?'], 'about'), (['Tell', 'me', 'about', 'yourself'], 'about'), (['What', 'can', 'you', 'do', '?'], 'skill'), (['Who', 'created', 'you', '?'], 'creation'), (['How', 'were', 'you', 'made', '?'], 'creation'), (['How', 'were', 'you', 'created', '?'], 'creation'), (['My', 'name', 'is'], 'name'), (['I', 'am', 'name', '.'], 'name'), (['I', 'go', 'by'], 'name'), (['Could', 'you', 'help', 'me', '?'], 'help'), (['give', 'me', 'a', 'hand', 'please'], 'help'), (['Can', 'you', 'help', '?'], 'help'), (['What', 'can', 'you', 'do', 'for', 'me', '?'], 'help'), (['I', 'need', 'support'], 'help'), (['I', 'need', 'help'], 'help'), (['Support', 'me', 'please'], 'help'), (['I', 'am', 'feeling', 'lonely'], 'sad'), (['I', 'am', 'so', 'lonely'], 'sad'), (['I', 'feel', 'down'], 'sad'), (['I', 'feel', 'sad'], 'sad'), (['I', 'am', 'sad'], 'sad'), (['I', 'feel', 'so', 'lonely'], 'sad'), (['I', 'feel', 'empty'], 'sad'), (['I', 'do', \"n't\", 'have', 'anyone'], 'sad'), (['I', 'am', 'so', 'stressed', 'out'], 'stressed'), (['I', 'am', 'so', 'stressed'], 'stressed'), (['I', 'feel', 'stuck'], 'stressed'), (['I', 'still', 'feel', 'stressed'], 'stressed'), (['I', 'am', 'so', 'burned', 'out'], 'stressed'), (['I', 'feel', 'so', 'worthless', '.'], 'worthless'), (['No', 'one', 'likes', 'me', '.'], 'worthless'), (['I', 'ca', \"n't\", 'do', 'anything', '.'], 'worthless'), (['I', 'am', 'so', 'useless'], 'worthless'), (['Nothing', 'makes', 'sense', 'anymore'], 'worthless'), (['I', 'ca', \"n't\", 'take', 'it', 'anymore'], 'depressed'), (['I', 'am', 'so', 'depressed'], 'depressed'), (['I', 'think', 'i', \"'m\", 'depressed', '.'], 'depressed'), (['I', 'have', 'depression'], 'depressed'), (['I', 'feel', 'great', 'today', '.'], 'happy'), (['I', 'am', 'happy', '.'], 'happy'), (['I', 'feel', 'happy', '.'], 'happy'), (['I', \"'m\", 'good', '.'], 'happy'), (['cheerful'], 'happy'), (['I', \"'m\", 'fine'], 'happy'), (['I', 'feel', 'ok'], 'happy'), (['Oh', 'I', 'see', '.'], 'casual'), (['ok'], 'casual'), (['okay'], 'casual'), (['nice'], 'casual'), (['Whatever'], 'casual'), (['K'], 'casual'), (['Fine'], 'casual'), (['yeah'], 'casual'), (['yes'], 'casual'), (['no'], 'casual'), (['not', 'really'], 'casual'), (['I', 'feel', 'so', 'anxious', '.'], 'anxious'), (['I', \"'m\", 'so', 'anxious', 'because', 'of'], 'anxious'), (['I', 'do', \"n't\", 'want', 'to', 'talk', 'about', 'it', '.'], 'not-talking'), (['No', 'just', 'stay', 'away', '.'], 'not-talking'), (['I', 'ca', \"n't\", 'bring', 'myself', 'to', 'open', 'up', '.'], 'not-talking'), (['Just', 'shut', 'up'], 'not-talking'), (['I', 'have', 'insominia'], 'sleep'), (['I', 'am', 'suffering', 'from', 'insomnia'], 'sleep'), (['I', 'ca', \"n't\", 'sleep', '.'], 'sleep'), (['I', 'have', \"n't\", 'slept', 'for', 'the', 'last', 'days', '.'], 'sleep'), (['I', 'ca', \"n't\", 'seem', 'to', 'go', 'to', 'sleep', '.'], 'sleep'), (['I', 'have', \"n't\", 'had', 'proper', 'sleep', 'for', 'the', 'past', 'few', 'days', '.'], 'sleep'), (['I', \"'m\", 'scared'], 'scared'), (['That', 'sounds', 'awful', '.', 'What', 'do', 'i', 'do', '?'], 'scared'), (['No', 'i', 'do', \"n't\", 'want', 'to', 'feel', 'this', 'way'], 'scared'), (['I', 'am', 'scared', 'for', 'myself'], 'scared'), (['My', 'mom', 'died'], 'death'), (['My', 'brother', 'died'], 'death'), (['My', 'dad', 'passed', 'away'], 'death'), (['My', 'sister', 'passed', 'away'], 'death'), (['Someone', 'in', 'my', 'family', 'died'], 'death'), (['My', 'friend', 'passed', 'away'], 'death'), (['You', 'do', \"n't\", 'understand', 'me', '.'], 'understand'), (['You', \"'re\", 'just', 'some', 'robot', '.', 'How', 'would', 'you', 'know', '?'], 'understand'), (['You', 'ca', \"n't\", 'possibly', 'know', 'what', 'i', \"'m\", 'going', 'through'], 'understand'), (['You', \"'re\", 'useless'], 'understand'), (['You', 'ca', \"n't\", 'help', 'me'], 'understand'), (['Nobody', 'understands', 'me', '.'], 'understand'), (['That', \"'s\", 'all', '.'], 'done'), (['I', 'do', \"n't\", 'have', 'anything', 'more', 'to', 'say'], 'done'), (['Nothing', 'else'], 'done'), (['That', \"'s\", 'all', 'i', 'have', 'to', 'say'], 'done'), (['no', ',', 'that', 'would', 'be', 'all'], 'done'), (['I', 'want', 'to', 'kill', 'myself'], 'suicide'), (['I', \"'ve\", 'thought', 'about', 'killing', 'myself', '.'], 'suicide'), (['I', 'want', 'to', 'die'], 'suicide'), (['I', 'am', 'going', 'to', 'kill', 'myself'], 'suicide'), (['I', 'am', 'going', 'to', 'commit', 'suicide'], 'suicide'), (['I', 'hate', 'you'], 'hate-you'), (['I', 'do', \"n't\", 'like', 'you'], 'hate-you'), (['I', 'do', \"n't\", 'trust', 'you'], 'hate-you'), (['You', 'hate', 'me'], 'hate-me'), (['I', 'know', 'you', 'hate', 'me'], 'hate-me'), (['You', 'do', \"n't\", 'like', 'me'], 'hate-me'), (['exams'], 'default'), (['friends'], 'default'), (['relationship'], 'default'), (['boyfriend'], 'default'), (['girlfriend'], 'default'), (['family'], 'default'), (['money'], 'default'), (['financial', 'problems'], 'default'), (['Tell', 'me', 'a', 'joke'], 'jokes'), (['Tell', 'me', 'another', 'joke'], 'jokes'), (['You', 'already', 'told', 'me', 'that'], 'repeat'), (['You', 'mentioned', 'that', 'already'], 'repeat'), (['Why', 'are', 'you', 'repeating', 'yourself', '?'], 'repeat'), (['What', 'are', 'you', 'saying', '?'], 'wrong'), (['That', 'does', \"n't\", 'make', 'sense'], 'wrong'), (['Wrong', 'response'], 'wrong'), (['Wrong', 'answer'], 'wrong'), (['Are', 'you', 'stupid', '?'], 'stupid'), (['You', \"'re\", 'crazy'], 'stupid'), (['You', 'are', 'dumb'], 'stupid'), (['Are', 'you', 'dumb', '?'], 'stupid'), (['Where', 'are', 'you', '?'], 'location'), (['Where', 'do', 'you', 'live', '?'], 'location'), (['What', 'is', 'your', 'location', '?'], 'location'), (['I', 'want', 'to', 'talk', 'about', 'something', 'else'], 'something-else'), (['Let', \"'s\", 'talk', 'about', 'something', 'else', '.'], 'something-else'), (['Can', 'we', 'not', 'talk', 'about', 'this', '?'], 'something-else'), (['I', 'do', \"n't\", 'want', 'to', 'talk', 'about', 'this', '.'], 'something-else'), (['I', 'do', \"n't\", 'have', 'any', 'friends'], 'friends'), (['Can', 'I', 'ask', 'you', 'something', '?'], 'ask'), (['Probably', 'because', 'my', 'exams', 'are', 'approaching', '.', 'I', 'feel', 'stressed', 'out', 'because', 'I', 'do', \"n't\", 'think', 'I', \"'ve\", 'prepared', 'well', 'enough', '.'], 'problem'), (['probably', 'because', 'of', 'my', 'exams'], 'problem'), (['I', 'guess', 'not', '.', 'All', 'I', 'can', 'think', 'about', 'are', 'my', 'exams', '.'], 'no-approach'), (['not', 'really'], 'no-approach'), (['i', 'guess', 'not'], 'no-approach'), (['ok', 'sure', '.', 'i', 'would', 'like', 'to', 'learn', 'more', 'about', 'it', '.'], 'learn-more'), (['yes', ',', 'i', 'would', 'like', 'to', 'learn', 'more', 'about', 'it', '.'], 'learn-more'), (['i', 'would', 'like', 'to', 'learn', 'more', 'about', 'it', '.'], 'learn-more'), (['yeah', 'you', \"'re\", 'right', '.', 'i', 'deserve', 'a', 'break', '.'], 'user-agree'), (['Yeah', 'you', \"'re\", 'absolutely', 'right', 'about', 'that'], 'user-agree'), (['hmmm', 'that', 'sounds', 'like', 'it', 'could', 'be', 'useful', 'to', 'me', '.'], 'meditation'), (['That', 'sounds', 'useful', '.'], 'meditation'), (['i', 'did', 'what', 'you', 'said', 'and', 'i', 'feel', 'alot', 'better', '.', 'thank', 'you', 'very', 'much', '.'], 'user-meditation'), (['I', 'feel', 'better', 'now'], 'user-meditation'), (['thank', 'you', 'very', 'much', 'again', '.', 'i', \"'ll\", 'continue', 'practicing', 'meditation', 'and', 'focus', 'on', 'what', 'i', 'can', 'control', '.'], 'pandora-useful'), (['I', 'want', 'some', 'advice', '.'], 'user-advice'), (['I', 'need', 'some', 'advice', '.'], 'user-advice'), (['I', 'need', 'advice', 'on', 'something'], 'user-advice'), (['I', 'want', 'to', 'learn', 'about', 'mental', 'health', '.'], 'learn-mental-health'), (['I', 'want', 'to', 'learn', 'more', 'about', 'mental', 'health', '.'], 'learn-mental-health'), (['I', \"'m\", 'interested', 'in', 'learning', 'about', 'mental', 'health', '.'], 'learn-mental-health'), (['Tell', 'me', 'a', 'fact', 'about', 'mental', 'health'], 'mental-health-fact'), (['Tell', 'me', 'another', 'fact', 'about', 'mental', 'health'], 'mental-health-fact'), (['What', 'is', 'mental', 'health', '?'], 'fact-1'), (['Define', 'Mental', 'Health'], 'fact-1'), (['Why', 'is', 'mental', 'health', 'important', '?'], 'fact-2'), (['What', 'is', 'the', 'importance', 'of', 'mental', 'health', '?'], 'fact-2'), (['What', 'is', 'Depression', '?'], 'fact-3'), (['Define', 'Depression'], 'fact-3'), (['How', 'do', 'i', 'know', 'if', 'i', 'have', 'Depression', '?'], 'fact-5'), (['Am', 'i', 'depressed', '?'], 'fact-5'), (['Am', 'i', 'suffering', 'from', 'depression', '?'], 'fact-5'), (['Am', 'i', 'mentally', 'ill', '?'], 'fact-5'), (['What', 'is', 'a', 'therapist', '?'], 'fact-6'), (['What', 'does', 'a', 'therapist', 'do', '?'], 'fact-6'), (['What', 'is', 'therapy', '?'], 'fact-7'), (['Do', 'i', 'need', 'therapy', '?'], 'fact-7'), (['Who', 'is', 'therapy', 'for', '?'], 'fact-7'), (['What', 'does', 'it', 'mean', 'to', 'have', 'a', 'mental', 'illness', '?'], 'fact-8'), (['Who', 'does', 'mental', 'illness', 'affect', '?'], 'fact-9'), (['What', 'causes', 'mental', 'illness', '?'], 'fact-10'), (['What', 'are', 'some', 'of', 'the', 'warning', 'signs', 'of', 'mental', 'illness', '?'], 'fact-11'), (['Can', 'people', 'with', 'mental', 'illness', 'recover', '?'], 'fact-12'), (['What', 'should', 'I', 'do', 'if', 'I', 'know', 'someone', 'who', 'appears', 'to', 'have', 'the', 'symptoms', 'of', 'a', 'mental', 'disorder', '?'], 'fact-13'), (['How', 'can', 'I', 'find', 'a', 'mental', 'health', 'professional', 'for', 'myself', 'or', 'my', 'child', '?'], 'fact-14'), (['What', 'treatment', 'options', 'are', 'available', '?'], 'fact-15'), (['If', 'I', 'become', 'involved', 'in', 'treatment', ',', 'what', 'do', 'I', 'need', 'to', 'know', '?'], 'fact-16'), (['What', 'is', 'the', 'difference', 'between', 'mental', 'health', 'professionals', '?'], 'fact-17'), (['How', 'can', 'I', 'find', 'a', 'mental', 'health', 'professional', 'right', 'for', 'my', 'child', 'or', 'myself', '?'], 'fact-18'), (['Where', 'else', 'can', 'I', 'get', 'help', '?'], 'fact-19'), (['What', 'should', 'I', 'know', 'before', 'starting', 'a', 'new', 'medication', '?'], 'fact-20'), (['Where', 'can', 'I', 'go', 'to', 'find', 'therapy', '?'], 'fact-21'), (['Where', 'can', 'I', 'learn', 'about', 'types', 'of', 'mental', 'health', 'treatment', '?'], 'fact-22'), (['What', 'are', 'the', 'different', 'types', 'of', 'mental', 'health', 'professionals', '?'], 'fact-23'), (['Where', 'can', 'I', 'go', 'to', 'find', 'a', 'support', 'group', '?'], 'fact-24'), (['Can', 'you', 'prevent', 'mental', 'health', 'problems', '?'], 'fact-25'), (['Are', 'there', 'cures', 'for', 'mental', 'health', 'problems', '?'], 'fact-26'), (['is', 'there', 'any', 'cure', 'for', 'mental', 'health', 'problems', '?'], 'fact-26'), (['What', 'causes', 'mental', 'health', 'problems', '?'], 'fact-27'), (['What', 'do', 'I', 'do', 'if', 'I', \"'m\", 'worried', 'about', 'my', 'mental', 'health', '?'], 'fact-28'), (['How', 'do', 'I', 'know', 'if', 'I', \"'m\", 'unwell', '?'], 'fact-29'), (['How', 'can', 'I', 'maintain', 'social', 'connections', '?', 'What', 'if', 'I', 'feel', 'lonely', '?'], 'fact-30'), (['What', \"'s\", 'the', 'difference', 'between', 'anxiety', 'and', 'stress', '?'], 'fact-31'), (['What', \"'s\", 'the', 'difference', 'between', 'sadness', 'and', 'depression', '?'], 'fact-32'), (['difference', 'between', 'sadness', 'and', 'depression'], 'fact-32')]\n",
      "80 classes ['about', 'afternoon', 'anxious', 'ask', 'casual', 'creation', 'death', 'default', 'depressed', 'done', 'evening', 'fact-1', 'fact-10', 'fact-11', 'fact-12', 'fact-13', 'fact-14', 'fact-15', 'fact-16', 'fact-17', 'fact-18', 'fact-19', 'fact-2', 'fact-20', 'fact-21', 'fact-22', 'fact-23', 'fact-24', 'fact-25', 'fact-26', 'fact-27', 'fact-28', 'fact-29', 'fact-3', 'fact-30', 'fact-31', 'fact-32', 'fact-5', 'fact-6', 'fact-7', 'fact-8', 'fact-9', 'friends', 'goodbye', 'greeting', 'happy', 'hate-me', 'hate-you', 'help', 'jokes', 'learn-mental-health', 'learn-more', 'location', 'meditation', 'mental-health-fact', 'morning', 'name', 'neutral-response', 'night', 'no-approach', 'no-response', 'not-talking', 'pandora-useful', 'problem', 'repeat', 'sad', 'scared', 'skill', 'sleep', 'something-else', 'stressed', 'stupid', 'suicide', 'thanks', 'understand', 'user-advice', 'user-agree', 'user-meditation', 'worthless', 'wrong']\n",
      "279 unique stemmed words [\"'ll\", \"'m\", \"'re\", \"'s\", \"'ve\", ',', '.', 'a', 'about', 'absolv', 'adv', 'affect', 'afternoon', 'again', 'al', 'alot', 'already', 'am', 'and', 'anoth', 'answ', 'anxy', 'any', 'anym', 'anyon', 'anyth', 'appear', 'approach', 'ar', 'ask', 'au', 'avail', 'aw', 'away', 'be', 'becaus', 'becom', 'bef', 'bet', 'between', 'bonjo', 'boyfriend', 'break', 'bring', 'broth', 'burn', 'by', 'bye', 'ca', 'cal', 'can', 'caus', 'che', 'child', 'commit', 'connect', 'continu', 'control', 'could', 'crazy', 'cre', 'cur', 'dad', 'day', 'defin', 'depress', 'deserv', 'did', 'die', 'died', 'diff', 'disord', 'do', 'doe', 'down', 'dumb', 'els', 'empty', 'enough', 'ev', 'exam', 'fact', 'famy', 'far', 'feel', 'few', 'fin', 'find', 'foc', 'for', 'friend', 'from', 'get', 'girlfriend', 'giv', 'go', 'going', 'good', 'goodby', 'gre', 'group', 'guess', 'gut', 'had', 'hand', 'happy', 'hat', 'hav', 'heal', 'hello', 'help', 'hey', 'hi', 'hmmm', 'hol', 'how', 'howdy', 'i', 'if', 'il', 'import', 'in', 'insomin', 'insomn', 'interest', 'involv', 'is', 'it', 'jok', 'just', 'k', 'kil', 'know', 'konnichiw', 'last', 'lat', 'learn', 'let', 'lik', 'liv', 'loc', 'lon', 'mad', 'maintain', 'mak', 'me', 'mean', 'med', 'medit', 'ment', 'mom', 'money', 'mor', 'morn', 'much', 'my', 'myself', \"n't\", 'nam', 'nee', 'new', 'nic', 'night', 'no', 'nobody', 'not', 'noth', 'now', 'of', 'oh', 'ok', 'okay', 'ol', 'on', 'op', 'opt', 'or', 'out', 'pass', 'past', 'peopl', 'pleas', 'poss', 'pract', 'prep', 'prev', 'prob', 'problem', 'profess', 'prop', 'real', 'recov', 'rel', 'rep', 'respons', 'revoir', 'right', 'robot', 'sad', 'said', 'say', 'sayonar', 'scar', 'see', 'seem', 'sens', 'should', 'shut', 'sign', 'sist', 'sleep', 'slept', 'so', 'soc', 'som', 'someon', 'someth', 'sound', 'start', 'stay', 'stil', 'stress', 'stressed', 'stuck', 'stupid', 'suff', 'suicid', 'support', 'sur', 'symptom', 'tag', 'tak', 'talk', 'tel', 'than', 'thank', 'that', 'the', 'then', 'ther', 'therap', 'therapy', 'thi', 'think', 'thought', 'through', 'to', 'today', 'told', 'tre', 'trust', 'typ', 'understand', 'unwel', 'up', 'us', 'useless', 'very', 'want', 'warn', 'way', 'we', 'wel', 'wer', 'what', 'whatev', 'wher', 'who', 'why', 'with', 'worry', 'worthless', 'would', 'wrong', 'ye', 'yeah', 'yo', 'you', 'yourself']\n"
     ]
    }
   ],
   "source": [
    "\n",
    "classes = sorted(list(set(classes)))\n",
    "\n",
    "print (len(documents), \"documents\")\n",
    "print(documents)\n",
    "print (len(classes), \"classes\", classes)\n",
    "print (len(vocab), \"unique stemmed words\", vocab)"
   ]
  },
  {
   "cell_type": "code",
   "execution_count": 6,
   "id": "91fe7453",
   "metadata": {},
   "outputs": [],
   "source": [
    "\n",
    "# create our training data\n",
    "training = []\n",
    "# create an empty array for our output\n",
    "output = [0] * len(classes)\n",
    "\n",
    "# training set, bag of words for each sentence\n",
    "for doc in documents:\n",
    "    # initialize our bag of words\n",
    "    bag = []\n",
    "    # list of tokenized words for the pattern\n",
    "    pattern_words = doc[0]\n",
    "    # stem each word\n",
    "    pattern_words = [stemmer.stem(word.lower()) for word in pattern_words]\n",
    "    # create our bag of words array\n",
    "    for w in vocab:\n",
    "        bag.append(1) if w in pattern_words else bag.append(0)\n",
    "\n",
    "    # output is a '0' for each tag and '1' for current tag\n",
    "    output_row = list(output)\n",
    "    output_row[classes.index(doc[1])] = 1\n",
    "\n",
    "    training.append([bag, output_row])\n",
    "\n",
    "# shuffle our features and turn into np.array\n",
    "random.shuffle(training)\n",
    "training = np.array(training)\n",
    "\n",
    "# create train and test lists\n",
    "train_x = list(training[:,0])\n",
    "train_y = list(training[:,1])\n",
    "     "
   ]
  },
  {
   "cell_type": "code",
   "execution_count": 7,
   "id": "5d2f4793",
   "metadata": {},
   "outputs": [
    {
     "name": "stdout",
     "output_type": "stream",
     "text": [
      "training data input: [0, 0, 0, 0, 0, 0, 0, 0, 0, 0, 0, 0, 0, 0, 0, 0, 0, 0, 0, 0, 0, 0, 0, 0, 0, 0, 0, 0, 0, 0, 0, 0, 0, 0, 0, 0, 0, 0, 0, 0, 0, 0, 0, 0, 0, 0, 0, 0, 0, 0, 0, 0, 0, 0, 0, 0, 0, 0, 0, 0, 0, 0, 0, 0, 0, 0, 0, 0, 0, 0, 0, 0, 0, 0, 0, 0, 0, 0, 0, 0, 0, 0, 0, 0, 0, 0, 0, 0, 0, 0, 0, 0, 0, 0, 0, 0, 0, 1, 0, 0, 0, 0, 0, 0, 0, 0, 0, 0, 0, 0, 0, 0, 0, 0, 0, 0, 0, 0, 0, 0, 0, 0, 0, 0, 0, 0, 0, 0, 0, 0, 0, 0, 0, 0, 0, 0, 0, 0, 0, 0, 0, 0, 0, 0, 0, 0, 0, 0, 0, 0, 0, 0, 0, 0, 0, 0, 0, 0, 0, 0, 0, 0, 1, 0, 0, 0, 0, 0, 0, 0, 0, 0, 0, 0, 0, 0, 0, 0, 0, 0, 0, 0, 0, 0, 0, 0, 0, 0, 0, 0, 0, 0, 0, 0, 0, 0, 0, 0, 0, 0, 0, 0, 0, 0, 0, 0, 0, 0, 0, 0, 0, 0, 0, 0, 0, 0, 0, 0, 0, 0, 0, 0, 0, 0, 0, 0, 0, 0, 0, 0, 0, 0, 0, 0, 0, 0, 0, 0, 0, 0, 0, 0, 0, 0, 0, 0, 0, 0, 0, 0, 0, 0, 0, 0, 0, 0, 0, 0, 0, 0, 0, 0, 0, 0, 0, 0, 0, 0, 0, 0, 0, 0, 0, 0, 0, 0, 0, 0, 0]\n",
      "training data output [0, 0, 0, 0, 0, 0, 0, 0, 0, 0, 0, 0, 0, 0, 0, 0, 0, 0, 0, 0, 0, 0, 0, 0, 0, 0, 0, 0, 0, 0, 0, 0, 0, 0, 0, 0, 0, 0, 0, 0, 0, 0, 0, 0, 0, 0, 0, 0, 0, 0, 0, 0, 0, 0, 0, 0, 0, 0, 1, 0, 0, 0, 0, 0, 0, 0, 0, 0, 0, 0, 0, 0, 0, 0, 0, 0, 0, 0, 0, 0]\n"
     ]
    }
   ],
   "source": [
    "print(\"training data input:\",train_x[0])\n",
    "print(\"training data output\",train_y[0])"
   ]
  },
  {
   "cell_type": "code",
   "execution_count": 8,
   "id": "3ac5d154",
   "metadata": {},
   "outputs": [],
   "source": [
    "testing = []\n",
    "\n",
    "vocab2 = []  # for vocabulary\n",
    "classes2 = [] #tags\n",
    "documents2 = [] # contain questions/ user inputs and the tags\n",
    "ignore_words2 = ['?','!']  #remove punctuations\n",
    "# loop through each sentence in our intents patterns\n",
    "for intent in intents['intents']:\n",
    "    for pattern in intent['patterns']:\n",
    "        # tokenize each word in the sentence\n",
    "        w = nltk.word_tokenize(pattern)\n",
    "        # add to our words list\n",
    "        vocab2.extend(w)\n",
    "        # add to documents in our corpus\n",
    "        documents2.append((w, intent['tag']))\n",
    "        # add to our classes list\n",
    "        if intent['tag'] not in classes2:\n",
    "            classes2.append(intent['tag'])\n",
    "\n",
    "# stem and lower each word and remove duplicates\n",
    "vocab2 = [stemmer.stem(w.lower()) for w in vocab2 if w not in ignore_words2]  #converting the words to lower and then stemming the words\n",
    "vocab2 = sorted(list(set(vocab2))) "
   ]
  },
  {
   "cell_type": "code",
   "execution_count": 9,
   "id": "d360df67",
   "metadata": {},
   "outputs": [
    {
     "name": "stdout",
     "output_type": "stream",
     "text": [
      "232 documents2\n",
      "[(['Hi'], 'greeting'), (['Hey'], 'greeting'), (['Is', 'anyone', 'there', '?'], 'greeting'), (['Hi', 'there'], 'greeting'), (['Hello'], 'greeting'), (['Hey', 'there'], 'greeting'), (['Howdy'], 'greeting'), (['Hola'], 'greeting'), (['Bonjour'], 'greeting'), (['Konnichiwa'], 'greeting'), (['Guten', 'tag'], 'greeting'), (['Ola'], 'greeting'), (['Good', 'morning'], 'morning'), (['Good', 'afternoon'], 'afternoon'), (['Good', 'evening'], 'evening'), (['Good', 'night'], 'night'), (['Bye'], 'goodbye'), (['See', 'you', 'later'], 'goodbye'), (['Goodbye'], 'goodbye'), (['Au', 'revoir'], 'goodbye'), (['Sayonara'], 'goodbye'), (['ok', 'bye'], 'goodbye'), (['Bye', 'then'], 'goodbye'), (['Fare', 'thee', 'well'], 'goodbye'), (['Thanks'], 'thanks'), (['Thank', 'you'], 'thanks'), (['That', \"'s\", 'helpful'], 'thanks'), (['Thanks', 'for', 'the', 'help'], 'thanks'), (['Than', 'you', 'very', 'much'], 'thanks'), ([], 'no-response'), (['nothing', 'much'], 'neutral-response'), (['Who', 'are', 'you', '?'], 'about'), (['What', 'are', 'you', '?'], 'about'), (['Who', 'you', 'are', '?'], 'about'), (['Tell', 'me', 'more', 'about', 'yourself', '.'], 'about'), (['What', 'is', 'your', 'name', '?'], 'about'), (['What', 'should', 'I', 'call', 'you', '?'], 'about'), (['What', \"'s\", 'your', 'name', '?'], 'about'), (['Tell', 'me', 'about', 'yourself'], 'about'), (['What', 'can', 'you', 'do', '?'], 'skill'), (['Who', 'created', 'you', '?'], 'creation'), (['How', 'were', 'you', 'made', '?'], 'creation'), (['How', 'were', 'you', 'created', '?'], 'creation'), (['My', 'name', 'is'], 'name'), (['I', 'am', 'name', '.'], 'name'), (['I', 'go', 'by'], 'name'), (['Could', 'you', 'help', 'me', '?'], 'help'), (['give', 'me', 'a', 'hand', 'please'], 'help'), (['Can', 'you', 'help', '?'], 'help'), (['What', 'can', 'you', 'do', 'for', 'me', '?'], 'help'), (['I', 'need', 'support'], 'help'), (['I', 'need', 'help'], 'help'), (['Support', 'me', 'please'], 'help'), (['I', 'am', 'feeling', 'lonely'], 'sad'), (['I', 'am', 'so', 'lonely'], 'sad'), (['I', 'feel', 'down'], 'sad'), (['I', 'feel', 'sad'], 'sad'), (['I', 'am', 'sad'], 'sad'), (['I', 'feel', 'so', 'lonely'], 'sad'), (['I', 'feel', 'empty'], 'sad'), (['I', 'do', \"n't\", 'have', 'anyone'], 'sad'), (['I', 'am', 'so', 'stressed', 'out'], 'stressed'), (['I', 'am', 'so', 'stressed'], 'stressed'), (['I', 'feel', 'stuck'], 'stressed'), (['I', 'still', 'feel', 'stressed'], 'stressed'), (['I', 'am', 'so', 'burned', 'out'], 'stressed'), (['I', 'feel', 'so', 'worthless', '.'], 'worthless'), (['No', 'one', 'likes', 'me', '.'], 'worthless'), (['I', 'ca', \"n't\", 'do', 'anything', '.'], 'worthless'), (['I', 'am', 'so', 'useless'], 'worthless'), (['Nothing', 'makes', 'sense', 'anymore'], 'worthless'), (['I', 'ca', \"n't\", 'take', 'it', 'anymore'], 'depressed'), (['I', 'am', 'so', 'depressed'], 'depressed'), (['I', 'think', 'i', \"'m\", 'depressed', '.'], 'depressed'), (['I', 'have', 'depression'], 'depressed'), (['I', 'feel', 'great', 'today', '.'], 'happy'), (['I', 'am', 'happy', '.'], 'happy'), (['I', 'feel', 'happy', '.'], 'happy'), (['I', \"'m\", 'good', '.'], 'happy'), (['cheerful'], 'happy'), (['I', \"'m\", 'fine'], 'happy'), (['I', 'feel', 'ok'], 'happy'), (['Oh', 'I', 'see', '.'], 'casual'), (['ok'], 'casual'), (['okay'], 'casual'), (['nice'], 'casual'), (['Whatever'], 'casual'), (['K'], 'casual'), (['Fine'], 'casual'), (['yeah'], 'casual'), (['yes'], 'casual'), (['no'], 'casual'), (['not', 'really'], 'casual'), (['I', 'feel', 'so', 'anxious', '.'], 'anxious'), (['I', \"'m\", 'so', 'anxious', 'because', 'of'], 'anxious'), (['I', 'do', \"n't\", 'want', 'to', 'talk', 'about', 'it', '.'], 'not-talking'), (['No', 'just', 'stay', 'away', '.'], 'not-talking'), (['I', 'ca', \"n't\", 'bring', 'myself', 'to', 'open', 'up', '.'], 'not-talking'), (['Just', 'shut', 'up'], 'not-talking'), (['I', 'have', 'insominia'], 'sleep'), (['I', 'am', 'suffering', 'from', 'insomnia'], 'sleep'), (['I', 'ca', \"n't\", 'sleep', '.'], 'sleep'), (['I', 'have', \"n't\", 'slept', 'for', 'the', 'last', 'days', '.'], 'sleep'), (['I', 'ca', \"n't\", 'seem', 'to', 'go', 'to', 'sleep', '.'], 'sleep'), (['I', 'have', \"n't\", 'had', 'proper', 'sleep', 'for', 'the', 'past', 'few', 'days', '.'], 'sleep'), (['I', \"'m\", 'scared'], 'scared'), (['That', 'sounds', 'awful', '.', 'What', 'do', 'i', 'do', '?'], 'scared'), (['No', 'i', 'do', \"n't\", 'want', 'to', 'feel', 'this', 'way'], 'scared'), (['I', 'am', 'scared', 'for', 'myself'], 'scared'), (['My', 'mom', 'died'], 'death'), (['My', 'brother', 'died'], 'death'), (['My', 'dad', 'passed', 'away'], 'death'), (['My', 'sister', 'passed', 'away'], 'death'), (['Someone', 'in', 'my', 'family', 'died'], 'death'), (['My', 'friend', 'passed', 'away'], 'death'), (['You', 'do', \"n't\", 'understand', 'me', '.'], 'understand'), (['You', \"'re\", 'just', 'some', 'robot', '.', 'How', 'would', 'you', 'know', '?'], 'understand'), (['You', 'ca', \"n't\", 'possibly', 'know', 'what', 'i', \"'m\", 'going', 'through'], 'understand'), (['You', \"'re\", 'useless'], 'understand'), (['You', 'ca', \"n't\", 'help', 'me'], 'understand'), (['Nobody', 'understands', 'me', '.'], 'understand'), (['That', \"'s\", 'all', '.'], 'done'), (['I', 'do', \"n't\", 'have', 'anything', 'more', 'to', 'say'], 'done'), (['Nothing', 'else'], 'done'), (['That', \"'s\", 'all', 'i', 'have', 'to', 'say'], 'done'), (['no', ',', 'that', 'would', 'be', 'all'], 'done'), (['I', 'want', 'to', 'kill', 'myself'], 'suicide'), (['I', \"'ve\", 'thought', 'about', 'killing', 'myself', '.'], 'suicide'), (['I', 'want', 'to', 'die'], 'suicide'), (['I', 'am', 'going', 'to', 'kill', 'myself'], 'suicide'), (['I', 'am', 'going', 'to', 'commit', 'suicide'], 'suicide'), (['I', 'hate', 'you'], 'hate-you'), (['I', 'do', \"n't\", 'like', 'you'], 'hate-you'), (['I', 'do', \"n't\", 'trust', 'you'], 'hate-you'), (['You', 'hate', 'me'], 'hate-me'), (['I', 'know', 'you', 'hate', 'me'], 'hate-me'), (['You', 'do', \"n't\", 'like', 'me'], 'hate-me'), (['exams'], 'default'), (['friends'], 'default'), (['relationship'], 'default'), (['boyfriend'], 'default'), (['girlfriend'], 'default'), (['family'], 'default'), (['money'], 'default'), (['financial', 'problems'], 'default'), (['Tell', 'me', 'a', 'joke'], 'jokes'), (['Tell', 'me', 'another', 'joke'], 'jokes'), (['You', 'already', 'told', 'me', 'that'], 'repeat'), (['You', 'mentioned', 'that', 'already'], 'repeat'), (['Why', 'are', 'you', 'repeating', 'yourself', '?'], 'repeat'), (['What', 'are', 'you', 'saying', '?'], 'wrong'), (['That', 'does', \"n't\", 'make', 'sense'], 'wrong'), (['Wrong', 'response'], 'wrong'), (['Wrong', 'answer'], 'wrong'), (['Are', 'you', 'stupid', '?'], 'stupid'), (['You', \"'re\", 'crazy'], 'stupid'), (['You', 'are', 'dumb'], 'stupid'), (['Are', 'you', 'dumb', '?'], 'stupid'), (['Where', 'are', 'you', '?'], 'location'), (['Where', 'do', 'you', 'live', '?'], 'location'), (['What', 'is', 'your', 'location', '?'], 'location'), (['I', 'want', 'to', 'talk', 'about', 'something', 'else'], 'something-else'), (['Let', \"'s\", 'talk', 'about', 'something', 'else', '.'], 'something-else'), (['Can', 'we', 'not', 'talk', 'about', 'this', '?'], 'something-else'), (['I', 'do', \"n't\", 'want', 'to', 'talk', 'about', 'this', '.'], 'something-else'), (['I', 'do', \"n't\", 'have', 'any', 'friends'], 'friends'), (['Can', 'I', 'ask', 'you', 'something', '?'], 'ask'), (['Probably', 'because', 'my', 'exams', 'are', 'approaching', '.', 'I', 'feel', 'stressed', 'out', 'because', 'I', 'do', \"n't\", 'think', 'I', \"'ve\", 'prepared', 'well', 'enough', '.'], 'problem'), (['probably', 'because', 'of', 'my', 'exams'], 'problem'), (['I', 'guess', 'not', '.', 'All', 'I', 'can', 'think', 'about', 'are', 'my', 'exams', '.'], 'no-approach'), (['not', 'really'], 'no-approach'), (['i', 'guess', 'not'], 'no-approach'), (['ok', 'sure', '.', 'i', 'would', 'like', 'to', 'learn', 'more', 'about', 'it', '.'], 'learn-more'), (['yes', ',', 'i', 'would', 'like', 'to', 'learn', 'more', 'about', 'it', '.'], 'learn-more'), (['i', 'would', 'like', 'to', 'learn', 'more', 'about', 'it', '.'], 'learn-more'), (['yeah', 'you', \"'re\", 'right', '.', 'i', 'deserve', 'a', 'break', '.'], 'user-agree'), (['Yeah', 'you', \"'re\", 'absolutely', 'right', 'about', 'that'], 'user-agree'), (['hmmm', 'that', 'sounds', 'like', 'it', 'could', 'be', 'useful', 'to', 'me', '.'], 'meditation'), (['That', 'sounds', 'useful', '.'], 'meditation'), (['i', 'did', 'what', 'you', 'said', 'and', 'i', 'feel', 'alot', 'better', '.', 'thank', 'you', 'very', 'much', '.'], 'user-meditation'), (['I', 'feel', 'better', 'now'], 'user-meditation'), (['thank', 'you', 'very', 'much', 'again', '.', 'i', \"'ll\", 'continue', 'practicing', 'meditation', 'and', 'focus', 'on', 'what', 'i', 'can', 'control', '.'], 'pandora-useful'), (['I', 'want', 'some', 'advice', '.'], 'user-advice'), (['I', 'need', 'some', 'advice', '.'], 'user-advice'), (['I', 'need', 'advice', 'on', 'something'], 'user-advice'), (['I', 'want', 'to', 'learn', 'about', 'mental', 'health', '.'], 'learn-mental-health'), (['I', 'want', 'to', 'learn', 'more', 'about', 'mental', 'health', '.'], 'learn-mental-health'), (['I', \"'m\", 'interested', 'in', 'learning', 'about', 'mental', 'health', '.'], 'learn-mental-health'), (['Tell', 'me', 'a', 'fact', 'about', 'mental', 'health'], 'mental-health-fact'), (['Tell', 'me', 'another', 'fact', 'about', 'mental', 'health'], 'mental-health-fact'), (['What', 'is', 'mental', 'health', '?'], 'fact-1'), (['Define', 'Mental', 'Health'], 'fact-1'), (['Why', 'is', 'mental', 'health', 'important', '?'], 'fact-2'), (['What', 'is', 'the', 'importance', 'of', 'mental', 'health', '?'], 'fact-2'), (['What', 'is', 'Depression', '?'], 'fact-3'), (['Define', 'Depression'], 'fact-3'), (['How', 'do', 'i', 'know', 'if', 'i', 'have', 'Depression', '?'], 'fact-5'), (['Am', 'i', 'depressed', '?'], 'fact-5'), (['Am', 'i', 'suffering', 'from', 'depression', '?'], 'fact-5'), (['Am', 'i', 'mentally', 'ill', '?'], 'fact-5'), (['What', 'is', 'a', 'therapist', '?'], 'fact-6'), (['What', 'does', 'a', 'therapist', 'do', '?'], 'fact-6'), (['What', 'is', 'therapy', '?'], 'fact-7'), (['Do', 'i', 'need', 'therapy', '?'], 'fact-7'), (['Who', 'is', 'therapy', 'for', '?'], 'fact-7'), (['What', 'does', 'it', 'mean', 'to', 'have', 'a', 'mental', 'illness', '?'], 'fact-8'), (['Who', 'does', 'mental', 'illness', 'affect', '?'], 'fact-9'), (['What', 'causes', 'mental', 'illness', '?'], 'fact-10'), (['What', 'are', 'some', 'of', 'the', 'warning', 'signs', 'of', 'mental', 'illness', '?'], 'fact-11'), (['Can', 'people', 'with', 'mental', 'illness', 'recover', '?'], 'fact-12'), (['What', 'should', 'I', 'do', 'if', 'I', 'know', 'someone', 'who', 'appears', 'to', 'have', 'the', 'symptoms', 'of', 'a', 'mental', 'disorder', '?'], 'fact-13'), (['How', 'can', 'I', 'find', 'a', 'mental', 'health', 'professional', 'for', 'myself', 'or', 'my', 'child', '?'], 'fact-14'), (['What', 'treatment', 'options', 'are', 'available', '?'], 'fact-15'), (['If', 'I', 'become', 'involved', 'in', 'treatment', ',', 'what', 'do', 'I', 'need', 'to', 'know', '?'], 'fact-16'), (['What', 'is', 'the', 'difference', 'between', 'mental', 'health', 'professionals', '?'], 'fact-17'), (['How', 'can', 'I', 'find', 'a', 'mental', 'health', 'professional', 'right', 'for', 'my', 'child', 'or', 'myself', '?'], 'fact-18'), (['Where', 'else', 'can', 'I', 'get', 'help', '?'], 'fact-19'), (['What', 'should', 'I', 'know', 'before', 'starting', 'a', 'new', 'medication', '?'], 'fact-20'), (['Where', 'can', 'I', 'go', 'to', 'find', 'therapy', '?'], 'fact-21'), (['Where', 'can', 'I', 'learn', 'about', 'types', 'of', 'mental', 'health', 'treatment', '?'], 'fact-22'), (['What', 'are', 'the', 'different', 'types', 'of', 'mental', 'health', 'professionals', '?'], 'fact-23'), (['Where', 'can', 'I', 'go', 'to', 'find', 'a', 'support', 'group', '?'], 'fact-24'), (['Can', 'you', 'prevent', 'mental', 'health', 'problems', '?'], 'fact-25'), (['Are', 'there', 'cures', 'for', 'mental', 'health', 'problems', '?'], 'fact-26'), (['is', 'there', 'any', 'cure', 'for', 'mental', 'health', 'problems', '?'], 'fact-26'), (['What', 'causes', 'mental', 'health', 'problems', '?'], 'fact-27'), (['What', 'do', 'I', 'do', 'if', 'I', \"'m\", 'worried', 'about', 'my', 'mental', 'health', '?'], 'fact-28'), (['How', 'do', 'I', 'know', 'if', 'I', \"'m\", 'unwell', '?'], 'fact-29'), (['How', 'can', 'I', 'maintain', 'social', 'connections', '?', 'What', 'if', 'I', 'feel', 'lonely', '?'], 'fact-30'), (['What', \"'s\", 'the', 'difference', 'between', 'anxiety', 'and', 'stress', '?'], 'fact-31'), (['What', \"'s\", 'the', 'difference', 'between', 'sadness', 'and', 'depression', '?'], 'fact-32'), (['difference', 'between', 'sadness', 'and', 'depression'], 'fact-32')]\n",
      "80 classes ['about', 'afternoon', 'anxious', 'ask', 'casual', 'creation', 'death', 'default', 'depressed', 'done', 'evening', 'fact-1', 'fact-10', 'fact-11', 'fact-12', 'fact-13', 'fact-14', 'fact-15', 'fact-16', 'fact-17', 'fact-18', 'fact-19', 'fact-2', 'fact-20', 'fact-21', 'fact-22', 'fact-23', 'fact-24', 'fact-25', 'fact-26', 'fact-27', 'fact-28', 'fact-29', 'fact-3', 'fact-30', 'fact-31', 'fact-32', 'fact-5', 'fact-6', 'fact-7', 'fact-8', 'fact-9', 'friends', 'goodbye', 'greeting', 'happy', 'hate-me', 'hate-you', 'help', 'jokes', 'learn-mental-health', 'learn-more', 'location', 'meditation', 'mental-health-fact', 'morning', 'name', 'neutral-response', 'night', 'no-approach', 'no-response', 'not-talking', 'pandora-useful', 'problem', 'repeat', 'sad', 'scared', 'skill', 'sleep', 'something-else', 'stressed', 'stupid', 'suicide', 'thanks', 'understand', 'user-advice', 'user-agree', 'user-meditation', 'worthless', 'wrong']\n",
      "279 unique stemmed words2 [\"'ll\", \"'m\", \"'re\", \"'s\", \"'ve\", ',', '.', 'a', 'about', 'absolv', 'adv', 'affect', 'afternoon', 'again', 'al', 'alot', 'already', 'am', 'and', 'anoth', 'answ', 'anxy', 'any', 'anym', 'anyon', 'anyth', 'appear', 'approach', 'ar', 'ask', 'au', 'avail', 'aw', 'away', 'be', 'becaus', 'becom', 'bef', 'bet', 'between', 'bonjo', 'boyfriend', 'break', 'bring', 'broth', 'burn', 'by', 'bye', 'ca', 'cal', 'can', 'caus', 'che', 'child', 'commit', 'connect', 'continu', 'control', 'could', 'crazy', 'cre', 'cur', 'dad', 'day', 'defin', 'depress', 'deserv', 'did', 'die', 'died', 'diff', 'disord', 'do', 'doe', 'down', 'dumb', 'els', 'empty', 'enough', 'ev', 'exam', 'fact', 'famy', 'far', 'feel', 'few', 'fin', 'find', 'foc', 'for', 'friend', 'from', 'get', 'girlfriend', 'giv', 'go', 'going', 'good', 'goodby', 'gre', 'group', 'guess', 'gut', 'had', 'hand', 'happy', 'hat', 'hav', 'heal', 'hello', 'help', 'hey', 'hi', 'hmmm', 'hol', 'how', 'howdy', 'i', 'if', 'il', 'import', 'in', 'insomin', 'insomn', 'interest', 'involv', 'is', 'it', 'jok', 'just', 'k', 'kil', 'know', 'konnichiw', 'last', 'lat', 'learn', 'let', 'lik', 'liv', 'loc', 'lon', 'mad', 'maintain', 'mak', 'me', 'mean', 'med', 'medit', 'ment', 'mom', 'money', 'mor', 'morn', 'much', 'my', 'myself', \"n't\", 'nam', 'nee', 'new', 'nic', 'night', 'no', 'nobody', 'not', 'noth', 'now', 'of', 'oh', 'ok', 'okay', 'ol', 'on', 'op', 'opt', 'or', 'out', 'pass', 'past', 'peopl', 'pleas', 'poss', 'pract', 'prep', 'prev', 'prob', 'problem', 'profess', 'prop', 'real', 'recov', 'rel', 'rep', 'respons', 'revoir', 'right', 'robot', 'sad', 'said', 'say', 'sayonar', 'scar', 'see', 'seem', 'sens', 'should', 'shut', 'sign', 'sist', 'sleep', 'slept', 'so', 'soc', 'som', 'someon', 'someth', 'sound', 'start', 'stay', 'stil', 'stress', 'stressed', 'stuck', 'stupid', 'suff', 'suicid', 'support', 'sur', 'symptom', 'tag', 'tak', 'talk', 'tel', 'than', 'thank', 'that', 'the', 'then', 'ther', 'therap', 'therapy', 'thi', 'think', 'thought', 'through', 'to', 'today', 'told', 'tre', 'trust', 'typ', 'understand', 'unwel', 'up', 'us', 'useless', 'very', 'want', 'warn', 'way', 'we', 'wel', 'wer', 'what', 'whatev', 'wher', 'who', 'why', 'with', 'worry', 'worthless', 'would', 'wrong', 'ye', 'yeah', 'yo', 'you', 'yourself']\n"
     ]
    }
   ],
   "source": [
    "classes2 = sorted(list(set(classes2)))\n",
    "\n",
    "print (len(documents2), \"documents2\")\n",
    "print(documents2)\n",
    "print (len(classes2), \"classes\", classes2)\n",
    "print (len(vocab2), \"unique stemmed words2\", vocab2)"
   ]
  },
  {
   "cell_type": "code",
   "execution_count": 10,
   "id": "f9ab0f71",
   "metadata": {},
   "outputs": [
    {
     "name": "stdout",
     "output_type": "stream",
     "text": [
      "80\n"
     ]
    }
   ],
   "source": [
    "# create our training data\n",
    "testing = []\n",
    "#output = []\n",
    "# create an empty array for our output\n",
    "output2 = [0] * len(classes)\n",
    "print(len(output2))\n",
    "# training set, bag of words for each sentence\n",
    "for doc in documents2:\n",
    "    # initialize our bag of words\n",
    "    bag2 = []\n",
    "    # list of tokenized words for the pattern\n",
    "    pattern_words2 = doc[0]\n",
    "    # stem each word\n",
    "    pattern_words2 = [stemmer.stem(word.lower()) for word in pattern_words2]\n",
    "    # create our bag of words array\n",
    "    for w in vocab:\n",
    "        bag2.append(1) if w in pattern_words2 else bag2.append(0)\n",
    "\n",
    "    # output is a '0' for each tag and '1' for current tag\n",
    "    output_row2 = list(output2)\n",
    "    output_row2[classes.index(doc[1])] = 1\n",
    "\n",
    "    testing.append([bag2, output_row2])\n",
    "\n",
    "# shuffle our features and turn into np.array\n",
    "random.shuffle(testing)\n",
    "testing = np.array(testing)\n",
    "\n",
    "# create train and test lists\n",
    "test_x = list(testing[:,0])\n",
    "test_y = list(testing[:,1])"
   ]
  },
  {
   "cell_type": "code",
   "execution_count": 11,
   "id": "dd3da78a",
   "metadata": {},
   "outputs": [
    {
     "data": {
      "text/plain": [
       "279"
      ]
     },
     "execution_count": 11,
     "metadata": {},
     "output_type": "execute_result"
    }
   ],
   "source": [
    "len(test_x[0])"
   ]
  },
  {
   "cell_type": "code",
   "execution_count": 12,
   "id": "8b251853",
   "metadata": {},
   "outputs": [
    {
     "data": {
      "text/plain": [
       "279"
      ]
     },
     "execution_count": 12,
     "metadata": {},
     "output_type": "execute_result"
    }
   ],
   "source": [
    "len(train_x[0])"
   ]
  },
  {
   "cell_type": "code",
   "execution_count": 15,
   "id": "43d4a300",
   "metadata": {
    "scrolled": true
   },
   "outputs": [],
   "source": [
    "\n",
    "import livelossplot\n",
    "plot_losses = livelossplot.PlotLossesKeras()\n"
   ]
  },
  {
   "cell_type": "code",
   "execution_count": 16,
   "id": "3cedc8f3",
   "metadata": {},
   "outputs": [
    {
     "data": {
      "image/png": "[encoded data removed]",
      "text/plain": [
       "<Figure size 864x576 with 2 Axes>"
      ]
     },
     "metadata": {
      "needs_background": "light"
     },
     "output_type": "display_data"
    },
    {
     "name": "stdout",
     "output_type": "stream",
     "text": [
      "accuracy\n",
      "\taccuracy         \t (min:    0.013, max:    0.983, cur:    0.983)\n",
      "Loss\n",
      "\tloss             \t (min:    0.000, max:    0.012, cur:    0.000)\n",
      "29/29 [==============================] - 0s 7ms/step - loss: 2.8304e-04 - accuracy: 0.9828\n"
     ]
    }
   ],
   "source": [
    "\n",
    "\n",
    "#sequential neural network model\n",
    "\n",
    "model = tf.keras.Sequential([tf.keras.layers.Dense(16, input_shape = (None,len(train_x[0]))), # input layer \n",
    "                             tf.keras.layers.Dense(10), #hidden layer\n",
    "\n",
    "                             tf.keras.layers.Dense(len(train_y[0]),activation=\"softmax\"),]) #output layer\n",
    "model.compile(optimizer = \"adam\",loss = \"mean_squared_error\",metrics = ['accuracy'])\n",
    "model.fit(train_x, train_y, epochs=100, batch_size=8,callbacks=[plot_losses])\n",
    "model.save('model.keras')\n",
    "\n"
   ]
  },
  {
   "cell_type": "code",
   "execution_count": 19,
   "id": "9cc13d29",
   "metadata": {},
   "outputs": [
    {
     "name": "stdout",
     "output_type": "stream",
     "text": [
      "8/8 [==============================] - 0s 715us/step - loss: 2.7761e-04 - accuracy: 0.9828\n",
      "test loss: 0.0002776057517621666\n",
      "test accuracy: 0.982758641242981\n"
     ]
    }
   ],
   "source": [
    "\n",
    "# Evaluation of the model with test data\n",
    "\n",
    "scores = model.evaluate(test_x,test_y)\n",
    "print(\"test loss:\",scores[0])\n",
    "print(\"test accuracy:\", scores[1])"
   ]
  },
  {
   "cell_type": "code",
   "execution_count": null,
   "id": "f422ad9f",
   "metadata": {},
   "outputs": [],
   "source": [
    "pip install pydot\n"
   ]
  },
  {
   "cell_type": "code",
   "execution_count": 20,
   "id": "afb670e2",
   "metadata": {},
   "outputs": [],
   "source": [
    "\n",
    "import pickle\n",
    "pickle.dump( {'vocab':vocab, 'classes':classes, 'train_x':train_x, 'train_y':train_y}, open( \"training_data\", \"wb\" ) )"
   ]
  },
  {
   "cell_type": "code",
   "execution_count": 22,
   "id": "a183355f",
   "metadata": {},
   "outputs": [],
   "source": [
    "#restore all of our data structures\n",
    "import pickle\n",
    "data = pickle.load( open( \"training_data\", \"rb\" ) )\n",
    "vocab = data['vocab']\n",
    "classes = data['classes']\n",
    "train_x = data['train_x']\n",
    "train_y = data['train_y']\n",
    "\n",
    "# import our chat-bot intents file\n",
    "import json\n",
    "with open(\"C:/Users/RSHAF/Desktop/chatbot2/data.json\") as f:\n",
    "    intents = json.load(f)"
   ]
  },
  {
   "cell_type": "code",
   "execution_count": 23,
   "id": "358be6bc",
   "metadata": {},
   "outputs": [],
   "source": [
    "# convert user input to BOW\n",
    "def clean_up_sentence(sentence):\n",
    "    # tokenize the pattern\n",
    "    sentence_words = nltk.word_tokenize(sentence)\n",
    "    # stem each word\n",
    "    sentence_words = [stemmer.stem(word.lower()) for word in sentence_words]\n",
    "    return sentence_words\n",
    "\n",
    "# return bag of words array: 0 or 1 for each word in the bag that exists in the sentence\n",
    "def bow(sentence, words, show_details=False):\n",
    "    # tokenize the pattern\n",
    "    sentence_words = clean_up_sentence(sentence)\n",
    "    # bag of words\n",
    "    bag = [0]*len(words)  \n",
    "    for s in sentence_words:\n",
    "        for i,w in enumerate(words):\n",
    "            if w == s: \n",
    "                bag[i] = 1\n",
    "                if show_details:\n",
    "                    print (\"found in bag: %s\" % w)\n",
    "    bag = np.array(bag)\n",
    "    bag= bag.tolist()\n",
    "    return(bag)\n",
    "     "
   ]
  },
  {
   "cell_type": "code",
   "execution_count": 24,
   "id": "c17a344a",
   "metadata": {},
   "outputs": [
    {
     "data": {
      "text/plain": [
       "[\"'ll\",\n",
       " \"'m\",\n",
       " \"'re\",\n",
       " \"'s\",\n",
       " \"'ve\",\n",
       " ',',\n",
       " '.',\n",
       " 'a',\n",
       " 'about',\n",
       " 'absolv',\n",
       " 'adv',\n",
       " 'affect',\n",
       " 'afternoon',\n",
       " 'again',\n",
       " 'al',\n",
       " 'alot',\n",
       " 'already',\n",
       " 'am',\n",
       " 'and',\n",
       " 'anoth',\n",
       " 'answ',\n",
       " 'anxy',\n",
       " 'any',\n",
       " 'anym',\n",
       " 'anyon',\n",
       " 'anyth',\n",
       " 'appear',\n",
       " 'approach',\n",
       " 'ar',\n",
       " 'ask',\n",
       " 'au',\n",
       " 'avail',\n",
       " 'aw',\n",
       " 'away',\n",
       " 'be',\n",
       " 'becaus',\n",
       " 'becom',\n",
       " 'bef',\n",
       " 'bet',\n",
       " 'between',\n",
       " 'bonjo',\n",
       " 'boyfriend',\n",
       " 'break',\n",
       " 'bring',\n",
       " 'broth',\n",
       " 'burn',\n",
       " 'by',\n",
       " 'bye',\n",
       " 'ca',\n",
       " 'cal',\n",
       " 'can',\n",
       " 'caus',\n",
       " 'che',\n",
       " 'child',\n",
       " 'commit',\n",
       " 'connect',\n",
       " 'continu',\n",
       " 'control',\n",
       " 'could',\n",
       " 'crazy',\n",
       " 'cre',\n",
       " 'cur',\n",
       " 'dad',\n",
       " 'day',\n",
       " 'defin',\n",
       " 'depress',\n",
       " 'deserv',\n",
       " 'did',\n",
       " 'die',\n",
       " 'died',\n",
       " 'diff',\n",
       " 'disord',\n",
       " 'do',\n",
       " 'doe',\n",
       " 'down',\n",
       " 'dumb',\n",
       " 'els',\n",
       " 'empty',\n",
       " 'enough',\n",
       " 'ev',\n",
       " 'exam',\n",
       " 'fact',\n",
       " 'famy',\n",
       " 'far',\n",
       " 'feel',\n",
       " 'few',\n",
       " 'fin',\n",
       " 'find',\n",
       " 'foc',\n",
       " 'for',\n",
       " 'friend',\n",
       " 'from',\n",
       " 'get',\n",
       " 'girlfriend',\n",
       " 'giv',\n",
       " 'go',\n",
       " 'going',\n",
       " 'good',\n",
       " 'goodby',\n",
       " 'gre',\n",
       " 'group',\n",
       " 'guess',\n",
       " 'gut',\n",
       " 'had',\n",
       " 'hand',\n",
       " 'happy',\n",
       " 'hat',\n",
       " 'hav',\n",
       " 'heal',\n",
       " 'hello',\n",
       " 'help',\n",
       " 'hey',\n",
       " 'hi',\n",
       " 'hmmm',\n",
       " 'hol',\n",
       " 'how',\n",
       " 'howdy',\n",
       " 'i',\n",
       " 'if',\n",
       " 'il',\n",
       " 'import',\n",
       " 'in',\n",
       " 'insomin',\n",
       " 'insomn',\n",
       " 'interest',\n",
       " 'involv',\n",
       " 'is',\n",
       " 'it',\n",
       " 'jok',\n",
       " 'just',\n",
       " 'k',\n",
       " 'kil',\n",
       " 'know',\n",
       " 'konnichiw',\n",
       " 'last',\n",
       " 'lat',\n",
       " 'learn',\n",
       " 'let',\n",
       " 'lik',\n",
       " 'liv',\n",
       " 'loc',\n",
       " 'lon',\n",
       " 'mad',\n",
       " 'maintain',\n",
       " 'mak',\n",
       " 'me',\n",
       " 'mean',\n",
       " 'med',\n",
       " 'medit',\n",
       " 'ment',\n",
       " 'mom',\n",
       " 'money',\n",
       " 'mor',\n",
       " 'morn',\n",
       " 'much',\n",
       " 'my',\n",
       " 'myself',\n",
       " \"n't\",\n",
       " 'nam',\n",
       " 'nee',\n",
       " 'new',\n",
       " 'nic',\n",
       " 'night',\n",
       " 'no',\n",
       " 'nobody',\n",
       " 'not',\n",
       " 'noth',\n",
       " 'now',\n",
       " 'of',\n",
       " 'oh',\n",
       " 'ok',\n",
       " 'okay',\n",
       " 'ol',\n",
       " 'on',\n",
       " 'op',\n",
       " 'opt',\n",
       " 'or',\n",
       " 'out',\n",
       " 'pass',\n",
       " 'past',\n",
       " 'peopl',\n",
       " 'pleas',\n",
       " 'poss',\n",
       " 'pract',\n",
       " 'prep',\n",
       " 'prev',\n",
       " 'prob',\n",
       " 'problem',\n",
       " 'profess',\n",
       " 'prop',\n",
       " 'real',\n",
       " 'recov',\n",
       " 'rel',\n",
       " 'rep',\n",
       " 'respons',\n",
       " 'revoir',\n",
       " 'right',\n",
       " 'robot',\n",
       " 'sad',\n",
       " 'said',\n",
       " 'say',\n",
       " 'sayonar',\n",
       " 'scar',\n",
       " 'see',\n",
       " 'seem',\n",
       " 'sens',\n",
       " 'should',\n",
       " 'shut',\n",
       " 'sign',\n",
       " 'sist',\n",
       " 'sleep',\n",
       " 'slept',\n",
       " 'so',\n",
       " 'soc',\n",
       " 'som',\n",
       " 'someon',\n",
       " 'someth',\n",
       " 'sound',\n",
       " 'start',\n",
       " 'stay',\n",
       " 'stil',\n",
       " 'stress',\n",
       " 'stressed',\n",
       " 'stuck',\n",
       " 'stupid',\n",
       " 'suff',\n",
       " 'suicid',\n",
       " 'support',\n",
       " 'sur',\n",
       " 'symptom',\n",
       " 'tag',\n",
       " 'tak',\n",
       " 'talk',\n",
       " 'tel',\n",
       " 'than',\n",
       " 'thank',\n",
       " 'that',\n",
       " 'the',\n",
       " 'then',\n",
       " 'ther',\n",
       " 'therap',\n",
       " 'therapy',\n",
       " 'thi',\n",
       " 'think',\n",
       " 'thought',\n",
       " 'through',\n",
       " 'to',\n",
       " 'today',\n",
       " 'told',\n",
       " 'tre',\n",
       " 'trust',\n",
       " 'typ',\n",
       " 'understand',\n",
       " 'unwel',\n",
       " 'up',\n",
       " 'us',\n",
       " 'useless',\n",
       " 'very',\n",
       " 'want',\n",
       " 'warn',\n",
       " 'way',\n",
       " 'we',\n",
       " 'wel',\n",
       " 'wer',\n",
       " 'what',\n",
       " 'whatev',\n",
       " 'wher',\n",
       " 'who',\n",
       " 'why',\n",
       " 'with',\n",
       " 'worry',\n",
       " 'worthless',\n",
       " 'would',\n",
       " 'wrong',\n",
       " 'ye',\n",
       " 'yeah',\n",
       " 'yo',\n",
       " 'you',\n",
       " 'yourself']"
      ]
     },
     "execution_count": 24,
     "metadata": {},
     "output_type": "execute_result"
    }
   ],
   "source": [
    "data['vocab']"
   ]
  },
  {
   "cell_type": "code",
   "execution_count": 29,
   "id": "5524070a",
   "metadata": {},
   "outputs": [
    {
     "name": "stdout",
     "output_type": "stream",
     "text": [
      "[0, 0, 0, 0, 0, 0, 0, 0, 0, 0, 0, 0, 0, 0, 0, 0, 0, 0, 0, 0, 0, 0, 0, 0, 0, 0, 0, 0, 0, 0, 0, 0, 0, 0, 0, 0, 0, 0, 0, 0, 0, 0, 0, 0, 0, 0, 0, 0, 0, 0, 0, 0, 0, 0, 0, 0, 0, 0, 0, 0, 0, 0, 0, 0, 0, 0, 0, 0, 0, 0, 0, 0, 0, 0, 0, 0, 0, 0, 0, 0, 0, 0, 0, 0, 0, 0, 0, 0, 0, 0, 0, 0, 0, 0, 0, 0, 0, 0, 0, 0, 0, 0, 0, 0, 0, 0, 0, 0, 0, 0, 0, 0, 0, 0, 1, 0, 0, 0, 0, 0, 0, 0, 0, 0, 0, 0, 0, 0, 0, 0, 0, 0, 0, 0, 0, 0, 0, 0, 0, 0, 0, 0, 0, 0, 0, 0, 0, 0, 0, 0, 0, 0, 0, 0, 0, 0, 0, 0, 0, 0, 0, 0, 0, 0, 0, 0, 0, 0, 0, 0, 0, 0, 0, 0, 0, 0, 0, 0, 0, 0, 0, 0, 0, 0, 0, 0, 0, 0, 0, 0, 0, 0, 0, 0, 0, 0, 0, 0, 0, 0, 0, 0, 0, 0, 0, 0, 0, 0, 0, 0, 0, 0, 0, 0, 0, 0, 0, 0, 0, 0, 0, 0, 0, 0, 0, 0, 0, 0, 0, 0, 0, 0, 0, 0, 0, 0, 0, 0, 0, 0, 0, 0, 0, 0, 0, 0, 0, 0, 0, 0, 0, 0, 0, 0, 0, 0, 0, 0, 0, 0, 0, 0, 0, 0, 0, 0, 0, 0, 0, 0, 0, 0, 0, 0, 0, 0, 0, 0, 0]\n"
     ]
    }
   ],
   "source": [
    "x = bow(\"Hola\",vocab)\n",
    "print(x)\n",
    "     "
   ]
  },
  {
   "cell_type": "code",
   "execution_count": 30,
   "id": "74976d37",
   "metadata": {},
   "outputs": [],
   "source": [
    "rate = 0.25\n",
    "def classify(sentence):\n",
    "    # generate probabilities from the model\n",
    "    results = model.predict([bow(sentence, vocab)])[0]\n",
    "    print(results)\n",
    "    # filter out predictions below a threshold\n",
    "    results = [[i,r] for i,r in enumerate(results) if r>rate]\n",
    "    # sort by strength of probability\n",
    "    results.sort(key=lambda x: x[1], reverse=True)\n",
    "    return_list = []\n",
    "    for r in results:\n",
    "        return_list.append((classes[r[0]], r[1]))\n",
    "    \n",
    "    return return_list\n",
    "\n",
    "def response(sentence, userID='123', show_details=False):\n",
    "    results = classify(sentence)\n",
    "    # if we have a classification then find the matching intent tag\n",
    "    if results:\n",
    "        # loop as long as there are matches to process\n",
    "        while results:\n",
    "            for i in intents['intents']:\n",
    "                # find a tag matching the first result\n",
    "                if i['tag'] == results[0][0]:\n",
    "                    # a random response from the intent\n",
    "                    return print(random.choice(i['responses']))\n",
    "\n",
    "            results.pop(0)"
   ]
  },
  {
   "cell_type": "code",
   "execution_count": 32,
   "id": "3ddfda83",
   "metadata": {
    "scrolled": true
   },
   "outputs": [
    {
     "name": "stdout",
     "output_type": "stream",
     "text": [
      "1/1 [==============================] - 0s 20ms/step\n",
      "[1.93657543e-04 1.16158685e-06 1.99327644e-07 3.22479968e-06\n",
      " 9.27422754e-03 2.21297517e-03 2.16131889e-06 5.75225521e-03\n",
      " 2.65190778e-07 1.69230613e-03 5.17757962e-06 6.43255930e-07\n",
      " 8.79939250e-08 9.69830936e-08 9.50828962e-06 3.50438654e-07\n",
      " 1.83689739e-08 1.25868473e-06 3.52851011e-08 1.82645499e-06\n",
      " 5.98616836e-08 1.32158220e-06 2.53306280e-06 1.36775611e-06\n",
      " 1.35308326e-07 2.05898331e-07 1.29699529e-07 3.41873118e-07\n",
      " 6.56367263e-07 8.86259329e-07 2.58208559e-07 5.96235310e-08\n",
      " 1.05667300e-06 3.47023814e-07 2.81004844e-07 1.50041287e-05\n",
      " 2.46469899e-05 2.41136803e-07 1.49321204e-06 1.00975092e-06\n",
      " 6.27041246e-08 5.26197709e-07 3.86787946e-07 2.13515414e-05\n",
      " 9.73695278e-01 1.78050705e-05 1.19578246e-04 8.43026646e-06\n",
      " 4.05532075e-03 2.92506214e-04 7.59605030e-07 8.26454084e-07\n",
      " 1.19279252e-06 2.86382070e-04 1.48568006e-05 3.83634870e-07\n",
      " 8.32688784e-06 4.17966330e-05 1.92865864e-05 2.10561102e-05\n",
      " 9.95581970e-04 1.71900847e-05 4.70724335e-05 8.21140873e-07\n",
      " 4.01533216e-05 9.09443042e-05 2.07164112e-06 1.21259991e-05\n",
      " 3.13323056e-07 1.87925019e-04 4.90091452e-07 4.13270282e-05\n",
      " 3.76460404e-04 5.97102262e-05 5.78372747e-05 2.39252728e-07\n",
      " 9.47439912e-06 1.43048863e-04 8.33790909e-06 9.91685447e-05]\n"
     ]
    },
    {
     "data": {
      "text/plain": [
       "[('greeting', 0.9736953)]"
      ]
     },
     "execution_count": 32,
     "metadata": {},
     "output_type": "execute_result"
    }
   ],
   "source": [
    "classify(\"Hola\")"
   ]
  },
  {
   "cell_type": "code",
   "execution_count": 34,
   "id": "9139ebad",
   "metadata": {
    "scrolled": false
   },
   "outputs": [
    {
     "name": "stdout",
     "output_type": "stream",
     "text": [
      "1/1 [==============================] - 0s 20ms/step\n",
      "[8.0055799e-03 3.6993868e-05 1.5562291e-06 3.0942874e-06 3.6169611e-02\n",
      " 1.5329468e-03 2.5884568e-04 1.7294742e-02 4.6559529e-05 1.1134752e-02\n",
      " 5.3621079e-05 4.4033754e-06 2.3068706e-06 2.3560111e-04 8.5224592e-06\n",
      " 2.3399949e-05 2.8459219e-06 3.5806789e-04 3.3529416e-06 1.8216255e-05\n",
      " 1.4503139e-05 2.8308987e-06 1.9921052e-04 6.3916508e-05 4.7871021e-05\n",
      " 1.8493089e-06 5.6858818e-05 4.9056140e-05 6.2154190e-06 2.5369030e-05\n",
      " 1.8675568e-06 1.8799905e-06 2.2712216e-05 9.7934108e-06 8.1794790e-04\n",
      " 4.7061971e-05 5.5915629e-04 5.8174166e-05 8.7886374e-04 2.0375270e-04\n",
      " 1.2050891e-05 1.2346958e-05 3.6728041e-05 5.5977148e-01 2.6017645e-02\n",
      " 3.0446337e-03 2.7097150e-04 4.7614682e-03 2.3924331e-03 7.8924722e-06\n",
      " 2.8340887e-06 1.6737167e-05 5.1461905e-04 1.0528332e-03 2.4463873e-06\n",
      " 4.3604938e-05 3.6273934e-03 6.7937974e-04 1.2210632e-05 3.5482662e-05\n",
      " 2.0318320e-03 1.7066692e-05 2.0779861e-04 1.4264325e-05 2.3919607e-02\n",
      " 2.5052273e-01 4.1810708e-05 3.6944987e-04 8.0660719e-04 1.8636452e-05\n",
      " 5.0820265e-04 3.6443213e-03 3.5492376e-05 1.4031826e-02 5.7233930e-05\n",
      " 2.1180834e-07 5.6380196e-03 1.4448830e-02 2.5204228e-05 3.0817040e-03]\n"
     ]
    },
    {
     "data": {
      "text/plain": [
       "[('goodbye', 0.5597715), ('sad', 0.25052273)]"
      ]
     },
     "execution_count": 34,
     "metadata": {},
     "output_type": "execute_result"
    }
   ],
   "source": [
    "classify(\"lonely\")"
   ]
  },
  {
   "cell_type": "code",
   "execution_count": 35,
   "id": "e967fcc4",
   "metadata": {
    "scrolled": false
   },
   "outputs": [
    {
     "name": "stdout",
     "output_type": "stream",
     "text": [
      ":start\n",
      "me:hi\n",
      "1/1 [==============================] - 0s 66ms/step\n",
      "Hi there. How are you feeling today?\n",
      "me:sad\n",
      "1/1 [==============================] - 0s 19ms/step\n",
      "How long have you been feeling this way?\n",
      "me:hmm\n",
      "1/1 [==============================] - 0s 20ms/step\n",
      "I'm listening. Please go on.\n",
      "me:i dont know\n",
      "1/1 [==============================] - 0s 20ms/step\n",
      "Forgive me if i did anything to offend you. I only want to help\n",
      "me:thank you\n",
      "1/1 [==============================] - 0s 20ms/step\n",
      "Happy to help!\n",
      "me:quit\n"
     ]
    }
   ],
   "source": [
    "\n",
    "def start_chat():\n",
    "  print(\":start\")\n",
    "  while True:\n",
    "    inp = input(\"me:\")\n",
    "    if inp.lower() == \"quit\":\n",
    "      \n",
    "      break\n",
    "\n",
    "    result = model.predict([[bow(inp,vocab)]])\n",
    "    \n",
    "    result_ind = np.argmax(result)\n",
    "    tag = classes[result_ind]\n",
    "    \n",
    "    for tg in intents[\"intents\"]:\n",
    "      if tg[\"tag\"] == tag:\n",
    "        responses = tg[\"responses\"]\n",
    "\n",
    "    print(random.choice(responses))\n",
    "    \n",
    "\n",
    "\n",
    "start_chat()"
   ]
  },
  {
   "cell_type": "code",
   "execution_count": 36,
   "id": "bed7e9a2",
   "metadata": {},
   "outputs": [
    {
     "name": "stdout",
     "output_type": "stream",
     "text": [
      "['Hello there. Tell me how are you feeling today?', 'Hi there. What brings you here today?', 'Hi there. How are you feeling today?', 'Great to see you. How do you feel currently?', \"Hello there. Glad to see you're back. What's going on in your world right now?\"]\n"
     ]
    }
   ],
   "source": [
    "for i in intents[\"intents\"]:\n",
    "  if i[\"tag\"] == \"greeting\":\n",
    "    responses = i[\"responses\"]\n",
    "print(responses)\n"
   ]
  },
  {
   "cell_type": "code",
   "execution_count": null,
   "id": "f970ea50",
   "metadata": {},
   "outputs": [],
   "source": []
  }
 ],
 "metadata": {
  "kernelspec": {
   "display_name": "Python 3",
   "language": "python",
   "name": "python3"
  },
  "language_info": {
   "codemirror_mode": {
    "name": "ipython",
    "version": 3
   },
   "file_extension": ".py",
   "mimetype": "text/x-python",
   "name": "python",
   "nbconvert_exporter": "python",
   "pygments_lexer": "ipython3",
   "version": "3.8.8"
  }
 },
 "nbformat": 4,
 "nbformat_minor": 5
}
